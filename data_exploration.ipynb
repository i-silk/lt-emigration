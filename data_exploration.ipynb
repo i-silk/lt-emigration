{
 "cells": [
  {
   "cell_type": "markdown",
   "metadata": {},
   "source": [
    "## Literature Research\n",
    "\n",
    "### Data sources\n",
    "\n",
    "http://123.emn.lt/en/\n",
    "\"Since 1990 the number of residents living in Lithuania has dropped by 883 thousand people, which constitutes about 24 percent of the entire population. It is worth noting, that out of the aforementioned number, 177 thousand can be referred to natural causes (birth/death rate), but the vast majority (707 thousand) is due to emigration. Even though in and of itself emigration is not a negative phenomenon, the immense emigration and unproportionally low immigration rates present an array of challenges in Lithuania: the demographic structure is changing (i.e. the population is ageing), the country is starting to lack workforce, brain drain is occurring.\"\n",
    "\n",
    "eurostat source has conflicting information with cia Factbook. Maybe not. Eurostat data is \"Crude rate of population change represents the ratio, expressed per 1 000 residents, of the increase of population during 2017 (difference between the population on 1 January 2018 and the population on 1 January 2017) to the average population in 2017\" and cia factbook is population growth rate compared to the average annual percentage change in populations, resulting from a surplus (or deficit) of births over deaths and the balance of migrants and leaving a country.\n",
    "https://ec.europa.eu/eurostat/documents/2995521/9063738/3-10072018-BP-EN.pdf/ccdfc838-d909-4fd8-b3f9-db0d65ea457f\n",
    "\n",
    "https://www.cia.gov/library/publications/the-world-factbook/rankorder/2002rank.html\n",
    "https://en.wikipedia.org/wiki/List_of_European_countries_by_population_growth_rate\n",
    "\n",
    "https://www.green-card.com/winner-statistics/?year=2015\n",
    "\n",
    "https://data.worldbank.org/indicator/SP.POP.TOTL?end=2016&locations=LT&start=1960\n",
    "Data file last updated 11/14/18\n",
    "\n",
    "https://tradingeconomics.com/lithuania/remittances\n",
    "\n",
    "### Articles\n",
    "\n",
    "https://qz.com/1325640/the-european-countries-that-desperately-need-migrants-to-avoid-demographic-decline-and-those-that-dont/\n",
    "\n",
    "https://qz.com/817538/lithuania-is-a-rare-country-where-voters-are-less-worried-about-immigration-than-about-emigration/\n",
    "\n",
    "https://en.delfi.lt/global-lt/emigration-from-lithuania-no-longer-impacted-by-economic-growth.d?id=74256170\n",
    "\n",
    "https://voxeurop.eu/en/content/article/1498571-good-life-does-not-come-easily-lithuania\n",
    "\n",
    "https://www.vice.com/en_uk/article/437qgg/lithuanias-emigration-crisis\n",
    "\n",
    "https://www.eurekalert.org/pub_releases/2017-03/kuot-mls032417.php\n",
    "\n",
    "https://euobserver.com/opinion/114419\n",
    "\n",
    "https://www.bloomberg.com/news/articles/2018-04-20/europe-s-depopulation-time-bomb-is-ticking-in-the-baltics"
   ]
  },
  {
   "cell_type": "markdown",
   "metadata": {},
   "source": [
    "### Important dates\n",
    "\n",
    "May 1st 2004 Lithuania joined EU <br>\n",
    "March 11, 1990, gained independence <br>\n",
    "financial crisis 2007-2008\n",
    "\n",
    "---"
   ]
  },
  {
   "cell_type": "code",
   "execution_count": 1,
   "metadata": {},
   "outputs": [],
   "source": [
    "import pandas as pd\n",
    "import numpy as np\n",
    "import altair as alt\n",
    "from altair import datum"
   ]
  },
  {
   "cell_type": "code",
   "execution_count": 2,
   "metadata": {},
   "outputs": [],
   "source": [
    "%run ../../random-stuff/altair_theme.py"
   ]
  },
  {
   "cell_type": "code",
   "execution_count": 3,
   "metadata": {},
   "outputs": [
    {
     "data": {
      "text/html": [
       "<style>\n",
       "@import url('https://fonts.googleapis.com/css?family=Poppins');\n",
       "</style>"
      ],
      "text/plain": [
       "<IPython.core.display.HTML object>"
      ]
     },
     "metadata": {},
     "output_type": "display_data"
    }
   ],
   "source": [
    "%%html\n",
    "<style>\n",
    "@import url('https://fonts.googleapis.com/css?family=Poppins');\n",
    "</style>"
   ]
  },
  {
   "cell_type": "markdown",
   "metadata": {},
   "source": [
    "## Lithuania's Population"
   ]
  },
  {
   "cell_type": "code",
   "execution_count": 4,
   "metadata": {},
   "outputs": [],
   "source": [
    "# data from worldbank \n",
    "year = list(range(1960, 2018))\n",
    "population = [2778550, 2823550, 2863350, 2898950, 2935200, 2971450, 3008050, 3044400, 3078850, 3107321, \n",
    "              3139689, 3179041, 3213622, 3244438, 3273894, 3301652, 3328664, 3355036, 3379514, 3397842, \n",
    "              3413202, 3432947, 3457179, 3485192, 3514205, 3544543, 3578914, 3616367, 3655049, 3684255, \n",
    "              3697838, 3704134, 3700114, 3682613, 3657144, 3629102, 3601613, 3575137, 3549331, 3524238, \n",
    "              3499536, 3470818, 3443067, 3415213, 3377075, 3322528, 3269909, 3231294, 3198231, 3162916, \n",
    "              3097282, 3028115, 2987773, 2957689, 2932367, 2904910, 2868231, 2827721]\n",
    "pop = pd.DataFrame({'Year': year, 'Population': population})\n",
    "\n",
    "# get the slope (i.e. same as difference in this case)\n",
    "pop['Yearly Change'] = pop.Population.diff()\n",
    "\n",
    "percent_change = [round(pop['Yearly Change'][1:].tolist()[indx] * 100 / pop.Population[:-1].tolist()[indx], 2) \n",
    "                  for indx in range(57)]\n",
    "pop['Yearly Change (%)'] = [np.nan, *percent_change]"
   ]
  },
  {
   "cell_type": "code",
   "execution_count": 5,
   "metadata": {},
   "outputs": [
    {
     "name": "stdout",
     "output_type": "stream",
     "text": [
      "3704134 31\n"
     ]
    }
   ],
   "source": [
    "print(max(population), population.index(max(population)))"
   ]
  },
  {
   "cell_type": "markdown",
   "metadata": {},
   "source": [
    "The maximum was in 1991"
   ]
  },
  {
   "cell_type": "code",
   "execution_count": 6,
   "metadata": {},
   "outputs": [
    {
     "data": {
      "text/html": [
       "<div>\n",
       "<style scoped>\n",
       "    .dataframe tbody tr th:only-of-type {\n",
       "        vertical-align: middle;\n",
       "    }\n",
       "\n",
       "    .dataframe tbody tr th {\n",
       "        vertical-align: top;\n",
       "    }\n",
       "\n",
       "    .dataframe thead th {\n",
       "        text-align: right;\n",
       "    }\n",
       "</style>\n",
       "<table border=\"1\" class=\"dataframe\">\n",
       "  <thead>\n",
       "    <tr style=\"text-align: right;\">\n",
       "      <th></th>\n",
       "      <th>Year</th>\n",
       "      <th>Population</th>\n",
       "      <th>Yearly Change</th>\n",
       "      <th>Yearly Change (%)</th>\n",
       "    </tr>\n",
       "  </thead>\n",
       "  <tbody>\n",
       "    <tr>\n",
       "      <th>0</th>\n",
       "      <td>1960</td>\n",
       "      <td>2778550</td>\n",
       "      <td>NaN</td>\n",
       "      <td>NaN</td>\n",
       "    </tr>\n",
       "    <tr>\n",
       "      <th>1</th>\n",
       "      <td>1961</td>\n",
       "      <td>2823550</td>\n",
       "      <td>45000.0</td>\n",
       "      <td>1.62</td>\n",
       "    </tr>\n",
       "    <tr>\n",
       "      <th>2</th>\n",
       "      <td>1962</td>\n",
       "      <td>2863350</td>\n",
       "      <td>39800.0</td>\n",
       "      <td>1.41</td>\n",
       "    </tr>\n",
       "    <tr>\n",
       "      <th>3</th>\n",
       "      <td>1963</td>\n",
       "      <td>2898950</td>\n",
       "      <td>35600.0</td>\n",
       "      <td>1.24</td>\n",
       "    </tr>\n",
       "    <tr>\n",
       "      <th>4</th>\n",
       "      <td>1964</td>\n",
       "      <td>2935200</td>\n",
       "      <td>36250.0</td>\n",
       "      <td>1.25</td>\n",
       "    </tr>\n",
       "  </tbody>\n",
       "</table>\n",
       "</div>"
      ],
      "text/plain": [
       "   Year  Population  Yearly Change  Yearly Change (%)\n",
       "0  1960     2778550            NaN                NaN\n",
       "1  1961     2823550        45000.0               1.62\n",
       "2  1962     2863350        39800.0               1.41\n",
       "3  1963     2898950        35600.0               1.24\n",
       "4  1964     2935200        36250.0               1.25"
      ]
     },
     "execution_count": 6,
     "metadata": {},
     "output_type": "execute_result"
    }
   ],
   "source": [
    "pop.head()"
   ]
  },
  {
   "cell_type": "code",
   "execution_count": 10,
   "metadata": {},
   "outputs": [
    {
     "data": {
      "application/vnd.vegalite.v2+json": {
       "$schema": "https://vega.github.io/schema/vega-lite/v2.6.0.json",
       "config": {
        "axisX": {
         "domain": true,
         "domainColor": "black",
         "domainWidth": 1,
         "grid": false,
         "labelAngle": 0,
         "labelColor": "black",
         "labelFont": "Poppins",
         "labelFontSize": 12,
         "tickColor": "black",
         "tickSize": 5,
         "titleColor": "black",
         "titleFont": "Poppins",
         "titleFontSize": 14,
         "titlePadding": 5
        },
        "axisY": {
         "domain": false,
         "grid": false,
         "gridColor": "white",
         "gridWidth": 1,
         "labelAngle": 0,
         "labelColor": "black",
         "labelFont": "Poppins",
         "labelFontSize": 12,
         "labelPadding": 5,
         "ticks": false,
         "titleColor": "black",
         "titleFont": "Poppins",
         "titleFontSize": 14,
         "titlePadding": 5
        },
        "bar": {
         "binSpacing": 1,
         "continuousBandSize": 30,
         "discreteBandSize": 30,
         "size": 40,
         "stroke": false
        },
        "circle": {
         "size": 50,
         "stroke": "white",
         "strokeWidth": 0.5
        },
        "legend": {
         "labelFont": "Poppins",
         "labelFontSize": 12,
         "offset": 0,
         "orient": "top-right",
         "symbolSize": 100,
         "symbolType": "circle",
         "title": "",
         "titleFont": "Poppins",
         "titleFontSize": 14
        },
        "line": {
         "strokeWidth": 3
        },
        "path": {
         "strokeWidth": 0.5
        },
        "point": {
         "size": 50
        },
        "range": {
         "category": [
          "#47b8e0",
          "#ffc952",
          "#a5d296",
          "#ff7473",
          "#7f9eb2",
          "#f1bbba",
          "#D1B6E1",
          "#D9D4CF"
         ],
         "diverging": [
          "#eff3ff",
          "#c6dbef",
          "#9ecae1",
          "#6baed6",
          "#3182bd",
          "#08519c"
         ]
        },
        "text": {
         "align": "right",
         "font": "Poppins",
         "fontSize": 11,
         "fontWeight": 400,
         "size": 11
        },
        "title": {
         "anchor": "center",
         "font": "Poppins",
         "fontSize": 18,
         "offset": 15
        },
        "trail": {
         "size": 1,
         "strokeWidth": 0
        },
        "view": {
         "stroke": "transparent"
        }
       },
       "data": {
        "name": "data-0dc01439ff695e2fc75efc5640833b38"
       },
       "datasets": {
        "data-0dc01439ff695e2fc75efc5640833b38": [
         {
          "Population": 2778550,
          "Year": 1960,
          "Yearly Change": null,
          "Yearly Change (%)": null
         },
         {
          "Population": 2823550,
          "Year": 1961,
          "Yearly Change": 45000,
          "Yearly Change (%)": 1.62
         },
         {
          "Population": 2863350,
          "Year": 1962,
          "Yearly Change": 39800,
          "Yearly Change (%)": 1.41
         },
         {
          "Population": 2898950,
          "Year": 1963,
          "Yearly Change": 35600,
          "Yearly Change (%)": 1.24
         },
         {
          "Population": 2935200,
          "Year": 1964,
          "Yearly Change": 36250,
          "Yearly Change (%)": 1.25
         },
         {
          "Population": 2971450,
          "Year": 1965,
          "Yearly Change": 36250,
          "Yearly Change (%)": 1.24
         },
         {
          "Population": 3008050,
          "Year": 1966,
          "Yearly Change": 36600,
          "Yearly Change (%)": 1.23
         },
         {
          "Population": 3044400,
          "Year": 1967,
          "Yearly Change": 36350,
          "Yearly Change (%)": 1.21
         },
         {
          "Population": 3078850,
          "Year": 1968,
          "Yearly Change": 34450,
          "Yearly Change (%)": 1.13
         },
         {
          "Population": 3107321,
          "Year": 1969,
          "Yearly Change": 28471,
          "Yearly Change (%)": 0.92
         },
         {
          "Population": 3139689,
          "Year": 1970,
          "Yearly Change": 32368,
          "Yearly Change (%)": 1.04
         },
         {
          "Population": 3179041,
          "Year": 1971,
          "Yearly Change": 39352,
          "Yearly Change (%)": 1.25
         },
         {
          "Population": 3213622,
          "Year": 1972,
          "Yearly Change": 34581,
          "Yearly Change (%)": 1.09
         },
         {
          "Population": 3244438,
          "Year": 1973,
          "Yearly Change": 30816,
          "Yearly Change (%)": 0.96
         },
         {
          "Population": 3273894,
          "Year": 1974,
          "Yearly Change": 29456,
          "Yearly Change (%)": 0.91
         },
         {
          "Population": 3301652,
          "Year": 1975,
          "Yearly Change": 27758,
          "Yearly Change (%)": 0.85
         },
         {
          "Population": 3328664,
          "Year": 1976,
          "Yearly Change": 27012,
          "Yearly Change (%)": 0.82
         },
         {
          "Population": 3355036,
          "Year": 1977,
          "Yearly Change": 26372,
          "Yearly Change (%)": 0.79
         },
         {
          "Population": 3379514,
          "Year": 1978,
          "Yearly Change": 24478,
          "Yearly Change (%)": 0.73
         },
         {
          "Population": 3397842,
          "Year": 1979,
          "Yearly Change": 18328,
          "Yearly Change (%)": 0.54
         },
         {
          "Population": 3413202,
          "Year": 1980,
          "Yearly Change": 15360,
          "Yearly Change (%)": 0.45
         },
         {
          "Population": 3432947,
          "Year": 1981,
          "Yearly Change": 19745,
          "Yearly Change (%)": 0.58
         },
         {
          "Population": 3457179,
          "Year": 1982,
          "Yearly Change": 24232,
          "Yearly Change (%)": 0.71
         },
         {
          "Population": 3485192,
          "Year": 1983,
          "Yearly Change": 28013,
          "Yearly Change (%)": 0.81
         },
         {
          "Population": 3514205,
          "Year": 1984,
          "Yearly Change": 29013,
          "Yearly Change (%)": 0.83
         },
         {
          "Population": 3544543,
          "Year": 1985,
          "Yearly Change": 30338,
          "Yearly Change (%)": 0.86
         },
         {
          "Population": 3578914,
          "Year": 1986,
          "Yearly Change": 34371,
          "Yearly Change (%)": 0.97
         },
         {
          "Population": 3616367,
          "Year": 1987,
          "Yearly Change": 37453,
          "Yearly Change (%)": 1.05
         },
         {
          "Population": 3655049,
          "Year": 1988,
          "Yearly Change": 38682,
          "Yearly Change (%)": 1.07
         },
         {
          "Population": 3684255,
          "Year": 1989,
          "Yearly Change": 29206,
          "Yearly Change (%)": 0.8
         },
         {
          "Population": 3697838,
          "Year": 1990,
          "Yearly Change": 13583,
          "Yearly Change (%)": 0.37
         },
         {
          "Population": 3704134,
          "Year": 1991,
          "Yearly Change": 6296,
          "Yearly Change (%)": 0.17
         },
         {
          "Population": 3700114,
          "Year": 1992,
          "Yearly Change": -4020,
          "Yearly Change (%)": -0.11
         },
         {
          "Population": 3682613,
          "Year": 1993,
          "Yearly Change": -17501,
          "Yearly Change (%)": -0.47
         },
         {
          "Population": 3657144,
          "Year": 1994,
          "Yearly Change": -25469,
          "Yearly Change (%)": -0.69
         },
         {
          "Population": 3629102,
          "Year": 1995,
          "Yearly Change": -28042,
          "Yearly Change (%)": -0.77
         },
         {
          "Population": 3601613,
          "Year": 1996,
          "Yearly Change": -27489,
          "Yearly Change (%)": -0.76
         },
         {
          "Population": 3575137,
          "Year": 1997,
          "Yearly Change": -26476,
          "Yearly Change (%)": -0.74
         },
         {
          "Population": 3549331,
          "Year": 1998,
          "Yearly Change": -25806,
          "Yearly Change (%)": -0.72
         },
         {
          "Population": 3524238,
          "Year": 1999,
          "Yearly Change": -25093,
          "Yearly Change (%)": -0.71
         },
         {
          "Population": 3499536,
          "Year": 2000,
          "Yearly Change": -24702,
          "Yearly Change (%)": -0.7
         },
         {
          "Population": 3470818,
          "Year": 2001,
          "Yearly Change": -28718,
          "Yearly Change (%)": -0.82
         },
         {
          "Population": 3443067,
          "Year": 2002,
          "Yearly Change": -27751,
          "Yearly Change (%)": -0.8
         },
         {
          "Population": 3415213,
          "Year": 2003,
          "Yearly Change": -27854,
          "Yearly Change (%)": -0.81
         },
         {
          "Population": 3377075,
          "Year": 2004,
          "Yearly Change": -38138,
          "Yearly Change (%)": -1.12
         },
         {
          "Population": 3322528,
          "Year": 2005,
          "Yearly Change": -54547,
          "Yearly Change (%)": -1.62
         },
         {
          "Population": 3269909,
          "Year": 2006,
          "Yearly Change": -52619,
          "Yearly Change (%)": -1.58
         },
         {
          "Population": 3231294,
          "Year": 2007,
          "Yearly Change": -38615,
          "Yearly Change (%)": -1.18
         },
         {
          "Population": 3198231,
          "Year": 2008,
          "Yearly Change": -33063,
          "Yearly Change (%)": -1.02
         },
         {
          "Population": 3162916,
          "Year": 2009,
          "Yearly Change": -35315,
          "Yearly Change (%)": -1.1
         },
         {
          "Population": 3097282,
          "Year": 2010,
          "Yearly Change": -65634,
          "Yearly Change (%)": -2.08
         },
         {
          "Population": 3028115,
          "Year": 2011,
          "Yearly Change": -69167,
          "Yearly Change (%)": -2.23
         },
         {
          "Population": 2987773,
          "Year": 2012,
          "Yearly Change": -40342,
          "Yearly Change (%)": -1.33
         },
         {
          "Population": 2957689,
          "Year": 2013,
          "Yearly Change": -30084,
          "Yearly Change (%)": -1.01
         },
         {
          "Population": 2932367,
          "Year": 2014,
          "Yearly Change": -25322,
          "Yearly Change (%)": -0.86
         },
         {
          "Population": 2904910,
          "Year": 2015,
          "Yearly Change": -27457,
          "Yearly Change (%)": -0.94
         },
         {
          "Population": 2868231,
          "Year": 2016,
          "Yearly Change": -36679,
          "Yearly Change (%)": -1.26
         },
         {
          "Population": 2827721,
          "Year": 2017,
          "Yearly Change": -40510,
          "Yearly Change (%)": -1.41
         }
        ]
       },
       "encoding": {
        "tooltip": [
         {
          "field": "Year",
          "type": "quantitative"
         },
         {
          "field": "Population",
          "type": "quantitative"
         }
        ],
        "x": {
         "axis": {
          "format": "f",
          "tickCount": 6
         },
         "field": "Year",
         "scale": {
          "domain": [
           1955,
           2020
          ]
         },
         "type": "quantitative"
        },
        "y": {
         "axis": {
          "format": "s"
         },
         "field": "Population",
         "scale": {
          "domain": [
           2500000,
           4000000
          ]
         },
         "type": "quantitative"
        }
       },
       "height": 300,
       "mark": "line",
       "title": "Population of Lithuania: 1960 - 2017",
       "width": 400
      },
      "image/png": "[encoded data removed]",
      "text/plain": [
       "<VegaLite 2 object>\n",
       "\n",
       "If you see this message, it means the renderer has not been properly enabled\n",
       "for the frontend that you are using. For more information, see\n",
       "https://altair-viz.github.io/user_guide/troubleshooting.html\n"
      ]
     },
     "execution_count": 10,
     "metadata": {},
     "output_type": "execute_result"
    }
   ],
   "source": [
    "alt.Chart(pop).mark_line().encode(\n",
    "    x = alt.X('Year', scale = alt.Scale(domain=[1955, 2020]), axis=alt.Axis(format='f', tickCount=6)),\n",
    "    y = alt.Y('Population:Q', scale = alt.Scale(domain=[2500000, 4000000]), axis=alt.Axis(format='s')),\n",
    "    tooltip = ['Year', 'Population']\n",
    ").properties(title=\"Population of Lithuania: 1960 - 2017\")"
   ]
  },
  {
   "cell_type": "code",
   "execution_count": 29,
   "metadata": {},
   "outputs": [],
   "source": [
    "# make circle dfs\n",
    "circs_y = [3697838, 3377075, 3198231]\n",
    "circs_df = pd.DataFrame.from_dict({'x': [1990, 2004, 2008], 'y': circs_y})\n",
    "\n",
    "circs_ch_y = [13583.0, -38138.0, -33063.0]\n",
    "circs_ch_df = pd.DataFrame.from_dict({'x': [1990, 2004, 2008], 'y': circs_ch_y})\n",
    "\n",
    "# make location df for text\n",
    "text_y = [3800000, 3340000, 3160000]\n",
    "locs = {'x': [2006, 2001, 2005], 'y': text_y, \n",
    "        'text': ['Gained independence in 1990', 'Joined EU in 2004', 'Global financial crisis of 2008']}\n",
    "loc_df = pd.DataFrame.from_dict(locs)\n",
    "\n",
    "# make zero line df\n",
    "zero_line_df = pd.DataFrame.from_dict({'x': [1960, 2017], 'y': [0, 0]})\n",
    "\n",
    "colors = ['#FFBC42', '#5A8A1D', '#EC2424']\n",
    "wd = 500\n",
    "hg = 250"
   ]
  },
  {
   "cell_type": "code",
   "execution_count": 30,
   "metadata": {},
   "outputs": [
    {
     "data": {
      "application/vnd.vegalite.v2+json": {
       "$schema": "https://vega.github.io/schema/vega-lite/v2.6.0.json",
       "config": {
        "axisX": {
         "domain": true,
         "domainColor": "black",
         "domainWidth": 1,
         "grid": false,
         "labelAngle": 0,
         "labelColor": "black",
         "labelFont": "Poppins",
         "labelFontSize": 12,
         "tickColor": "black",
         "tickSize": 5,
         "titleColor": "black",
         "titleFont": "Poppins",
         "titleFontSize": 14,
         "titlePadding": 5
        },
        "axisY": {
         "domain": false,
         "grid": false,
         "gridColor": "white",
         "gridWidth": 1,
         "labelAngle": 0,
         "labelColor": "black",
         "labelFont": "Poppins",
         "labelFontSize": 12,
         "labelPadding": 5,
         "ticks": false,
         "titleColor": "black",
         "titleFont": "Poppins",
         "titleFontSize": 14,
         "titlePadding": 5
        },
        "bar": {
         "binSpacing": 1,
         "continuousBandSize": 30,
         "discreteBandSize": 30,
         "size": 40,
         "stroke": false
        },
        "circle": {
         "size": 50,
         "stroke": "white",
         "strokeWidth": 0.5
        },
        "legend": {
         "labelFont": "Poppins",
         "labelFontSize": 12,
         "offset": 0,
         "orient": "top-right",
         "symbolSize": 100,
         "symbolType": "circle",
         "title": "",
         "titleFont": "Poppins",
         "titleFontSize": 14
        },
        "line": {
         "strokeWidth": 3
        },
        "path": {
         "strokeWidth": 0.5
        },
        "point": {
         "size": 50
        },
        "range": {
         "category": [
          "#47b8e0",
          "#ffc952",
          "#a5d296",
          "#ff7473",
          "#7f9eb2",
          "#f1bbba",
          "#D1B6E1",
          "#D9D4CF"
         ],
         "diverging": [
          "#eff3ff",
          "#c6dbef",
          "#9ecae1",
          "#6baed6",
          "#3182bd",
          "#08519c"
         ]
        },
        "text": {
         "align": "right",
         "font": "Poppins",
         "fontSize": 11,
         "fontWeight": 400,
         "size": 11
        },
        "title": {
         "anchor": "center",
         "font": "Poppins",
         "fontSize": 18,
         "offset": 15
        },
        "trail": {
         "size": 1,
         "strokeWidth": 0
        },
        "view": {
         "stroke": "transparent"
        }
       },
       "datasets": {
        "data-0dc01439ff695e2fc75efc5640833b38": [
         {
          "Population": 2778550,
          "Year": 1960,
          "Yearly Change": null,
          "Yearly Change (%)": null
         },
         {
          "Population": 2823550,
          "Year": 1961,
          "Yearly Change": 45000,
          "Yearly Change (%)": 1.62
         },
         {
          "Population": 2863350,
          "Year": 1962,
          "Yearly Change": 39800,
          "Yearly Change (%)": 1.41
         },
         {
          "Population": 2898950,
          "Year": 1963,
          "Yearly Change": 35600,
          "Yearly Change (%)": 1.24
         },
         {
          "Population": 2935200,
          "Year": 1964,
          "Yearly Change": 36250,
          "Yearly Change (%)": 1.25
         },
         {
          "Population": 2971450,
          "Year": 1965,
          "Yearly Change": 36250,
          "Yearly Change (%)": 1.24
         },
         {
          "Population": 3008050,
          "Year": 1966,
          "Yearly Change": 36600,
          "Yearly Change (%)": 1.23
         },
         {
          "Population": 3044400,
          "Year": 1967,
          "Yearly Change": 36350,
          "Yearly Change (%)": 1.21
         },
         {
          "Population": 3078850,
          "Year": 1968,
          "Yearly Change": 34450,
          "Yearly Change (%)": 1.13
         },
         {
          "Population": 3107321,
          "Year": 1969,
          "Yearly Change": 28471,
          "Yearly Change (%)": 0.92
         },
         {
          "Population": 3139689,
          "Year": 1970,
          "Yearly Change": 32368,
          "Yearly Change (%)": 1.04
         },
         {
          "Population": 3179041,
          "Year": 1971,
          "Yearly Change": 39352,
          "Yearly Change (%)": 1.25
         },
         {
          "Population": 3213622,
          "Year": 1972,
          "Yearly Change": 34581,
          "Yearly Change (%)": 1.09
         },
         {
          "Population": 3244438,
          "Year": 1973,
          "Yearly Change": 30816,
          "Yearly Change (%)": 0.96
         },
         {
          "Population": 3273894,
          "Year": 1974,
          "Yearly Change": 29456,
          "Yearly Change (%)": 0.91
         },
         {
          "Population": 3301652,
          "Year": 1975,
          "Yearly Change": 27758,
          "Yearly Change (%)": 0.85
         },
         {
          "Population": 3328664,
          "Year": 1976,
          "Yearly Change": 27012,
          "Yearly Change (%)": 0.82
         },
         {
          "Population": 3355036,
          "Year": 1977,
          "Yearly Change": 26372,
          "Yearly Change (%)": 0.79
         },
         {
          "Population": 3379514,
          "Year": 1978,
          "Yearly Change": 24478,
          "Yearly Change (%)": 0.73
         },
         {
          "Population": 3397842,
          "Year": 1979,
          "Yearly Change": 18328,
          "Yearly Change (%)": 0.54
         },
         {
          "Population": 3413202,
          "Year": 1980,
          "Yearly Change": 15360,
          "Yearly Change (%)": 0.45
         },
         {
          "Population": 3432947,
          "Year": 1981,
          "Yearly Change": 19745,
          "Yearly Change (%)": 0.58
         },
         {
          "Population": 3457179,
          "Year": 1982,
          "Yearly Change": 24232,
          "Yearly Change (%)": 0.71
         },
         {
          "Population": 3485192,
          "Year": 1983,
          "Yearly Change": 28013,
          "Yearly Change (%)": 0.81
         },
         {
          "Population": 3514205,
          "Year": 1984,
          "Yearly Change": 29013,
          "Yearly Change (%)": 0.83
         },
         {
          "Population": 3544543,
          "Year": 1985,
          "Yearly Change": 30338,
          "Yearly Change (%)": 0.86
         },
         {
          "Population": 3578914,
          "Year": 1986,
          "Yearly Change": 34371,
          "Yearly Change (%)": 0.97
         },
         {
          "Population": 3616367,
          "Year": 1987,
          "Yearly Change": 37453,
          "Yearly Change (%)": 1.05
         },
         {
          "Population": 3655049,
          "Year": 1988,
          "Yearly Change": 38682,
          "Yearly Change (%)": 1.07
         },
         {
          "Population": 3684255,
          "Year": 1989,
          "Yearly Change": 29206,
          "Yearly Change (%)": 0.8
         },
         {
          "Population": 3697838,
          "Year": 1990,
          "Yearly Change": 13583,
          "Yearly Change (%)": 0.37
         },
         {
          "Population": 3704134,
          "Year": 1991,
          "Yearly Change": 6296,
          "Yearly Change (%)": 0.17
         },
         {
          "Population": 3700114,
          "Year": 1992,
          "Yearly Change": -4020,
          "Yearly Change (%)": -0.11
         },
         {
          "Population": 3682613,
          "Year": 1993,
          "Yearly Change": -17501,
          "Yearly Change (%)": -0.47
         },
         {
          "Population": 3657144,
          "Year": 1994,
          "Yearly Change": -25469,
          "Yearly Change (%)": -0.69
         },
         {
          "Population": 3629102,
          "Year": 1995,
          "Yearly Change": -28042,
          "Yearly Change (%)": -0.77
         },
         {
          "Population": 3601613,
          "Year": 1996,
          "Yearly Change": -27489,
          "Yearly Change (%)": -0.76
         },
         {
          "Population": 3575137,
          "Year": 1997,
          "Yearly Change": -26476,
          "Yearly Change (%)": -0.74
         },
         {
          "Population": 3549331,
          "Year": 1998,
          "Yearly Change": -25806,
          "Yearly Change (%)": -0.72
         },
         {
          "Population": 3524238,
          "Year": 1999,
          "Yearly Change": -25093,
          "Yearly Change (%)": -0.71
         },
         {
          "Population": 3499536,
          "Year": 2000,
          "Yearly Change": -24702,
          "Yearly Change (%)": -0.7
         },
         {
          "Population": 3470818,
          "Year": 2001,
          "Yearly Change": -28718,
          "Yearly Change (%)": -0.82
         },
         {
          "Population": 3443067,
          "Year": 2002,
          "Yearly Change": -27751,
          "Yearly Change (%)": -0.8
         },
         {
          "Population": 3415213,
          "Year": 2003,
          "Yearly Change": -27854,
          "Yearly Change (%)": -0.81
         },
         {
          "Population": 3377075,
          "Year": 2004,
          "Yearly Change": -38138,
          "Yearly Change (%)": -1.12
         },
         {
          "Population": 3322528,
          "Year": 2005,
          "Yearly Change": -54547,
          "Yearly Change (%)": -1.62
         },
         {
          "Population": 3269909,
          "Year": 2006,
          "Yearly Change": -52619,
          "Yearly Change (%)": -1.58
         },
         {
          "Population": 3231294,
          "Year": 2007,
          "Yearly Change": -38615,
          "Yearly Change (%)": -1.18
         },
         {
          "Population": 3198231,
          "Year": 2008,
          "Yearly Change": -33063,
          "Yearly Change (%)": -1.02
         },
         {
          "Population": 3162916,
          "Year": 2009,
          "Yearly Change": -35315,
          "Yearly Change (%)": -1.1
         },
         {
          "Population": 3097282,
          "Year": 2010,
          "Yearly Change": -65634,
          "Yearly Change (%)": -2.08
         },
         {
          "Population": 3028115,
          "Year": 2011,
          "Yearly Change": -69167,
          "Yearly Change (%)": -2.23
         },
         {
          "Population": 2987773,
          "Year": 2012,
          "Yearly Change": -40342,
          "Yearly Change (%)": -1.33
         },
         {
          "Population": 2957689,
          "Year": 2013,
          "Yearly Change": -30084,
          "Yearly Change (%)": -1.01
         },
         {
          "Population": 2932367,
          "Year": 2014,
          "Yearly Change": -25322,
          "Yearly Change (%)": -0.86
         },
         {
          "Population": 2904910,
          "Year": 2015,
          "Yearly Change": -27457,
          "Yearly Change (%)": -0.94
         },
         {
          "Population": 2868231,
          "Year": 2016,
          "Yearly Change": -36679,
          "Yearly Change (%)": -1.26
         },
         {
          "Population": 2827721,
          "Year": 2017,
          "Yearly Change": -40510,
          "Yearly Change (%)": -1.41
         }
        ],
        "data-37fe77f320fec3872530664b045db78e": [
         {
          "x": 1960,
          "y": 0
         },
         {
          "x": 2017,
          "y": 0
         }
        ],
        "data-464564494da33992d81284d13ba083b7": [
         {
          "x": 1990,
          "y": 13583
         },
         {
          "x": 2004,
          "y": -38138
         },
         {
          "x": 2008,
          "y": -33063
         }
        ],
        "data-6f6eec00e76bc68d15d074731e4a783b": [
         {
          "x": 1990,
          "y": 3697838
         },
         {
          "x": 2004,
          "y": 3377075
         },
         {
          "x": 2008,
          "y": 3198231
         }
        ],
        "data-e13e7d4c777097dd6702843e072cd5b0": [
         {
          "text": "Gained independence in 1990",
          "x": 2006,
          "y": 3800000
         },
         {
          "text": "Joined EU in 2004",
          "x": 2001,
          "y": 3340000
         },
         {
          "text": "Global financial crisis of 2008",
          "x": 2005,
          "y": 3160000
         }
        ]
       },
       "height": 300,
       "vconcat": [
        {
         "layer": [
          {
           "data": {
            "name": "data-0dc01439ff695e2fc75efc5640833b38"
           },
           "encoding": {
            "tooltip": [
             {
              "field": "Year",
              "type": "quantitative"
             },
             {
              "field": "Population",
              "type": "quantitative"
             }
            ],
            "x": {
             "axis": {
              "format": "f",
              "tickCount": 6
             },
             "field": "Year",
             "scale": {
              "domain": [
               1956,
               2021
              ]
             },
             "type": "quantitative"
            },
            "y": {
             "axis": {
              "format": "s"
             },
             "field": "Population",
             "scale": {
              "domain": [
               2500000,
               4000000
              ]
             },
             "type": "quantitative"
            }
           },
           "height": 250,
           "mark": {
            "color": "#b8b8ba",
            "type": "line"
           },
           "title": "Population of Lithuania: 1960 - 2017",
           "width": 500
          },
          {
           "data": {
            "name": "data-6f6eec00e76bc68d15d074731e4a783b"
           },
           "encoding": {
            "color": {
             "field": "y",
             "legend": null,
             "scale": {
              "domain": [
               3697838,
               3377075,
               3198231
              ],
              "range": [
               "#FFBC42",
               "#5A8A1D",
               "#EC2424"
              ]
             },
             "type": "nominal"
            },
            "x": {
             "field": "x",
             "type": "quantitative"
            },
            "y": {
             "field": "y",
             "type": "quantitative"
            }
           },
           "mark": {
            "opacity": 1,
            "size": 100,
            "type": "circle"
           }
          },
          {
           "data": {
            "name": "data-e13e7d4c777097dd6702843e072cd5b0"
           },
           "encoding": {
            "color": {
             "field": "y",
             "legend": null,
             "scale": {
              "domain": [
               3800000,
               3340000,
               3160000
              ],
              "range": [
               "#FFBC42",
               "#5A8A1D",
               "#EC2424"
              ]
             },
             "type": "nominal"
            },
            "size": {
             "value": 14
            },
            "text": {
             "field": "text",
             "type": "nominal"
            },
            "x": {
             "axis": {
              "title": "Year"
             },
             "field": "x",
             "type": "quantitative"
            },
            "y": {
             "axis": {
              "title": "Population"
             },
             "field": "y",
             "type": "quantitative"
            }
           },
           "mark": "text"
          }
         ]
        },
        {
         "layer": [
          {
           "data": {
            "name": "data-0dc01439ff695e2fc75efc5640833b38"
           },
           "encoding": {
            "tooltip": [
             {
              "field": "Year",
              "type": "quantitative"
             },
             {
              "field": "Yearly Change",
              "type": "quantitative"
             }
            ],
            "x": {
             "axis": {
              "format": "f",
              "tickCount": 6
             },
             "field": "Year",
             "scale": {
              "domain": [
               1956,
               2021
              ]
             },
             "type": "quantitative"
            },
            "y": {
             "axis": {
              "format": "s"
             },
             "field": "Yearly Change",
             "scale": {
              "domain": [
               -90000,
               50000
              ]
             },
             "type": "quantitative"
            }
           },
           "height": 250,
           "mark": {
            "color": "#b8b8ba",
            "type": "line"
           },
           "width": 500
          },
          {
           "data": {
            "name": "data-464564494da33992d81284d13ba083b7"
           },
           "encoding": {
            "color": {
             "field": "y",
             "legend": null,
             "scale": {
              "domain": [
               13583,
               -38138,
               -33063
              ],
              "range": [
               "#FFBC42",
               "#5A8A1D",
               "#EC2424"
              ]
             },
             "type": "nominal"
            },
            "x": {
             "axis": {
              "title": "Year"
             },
             "field": "x",
             "type": "quantitative"
            },
            "y": {
             "axis": {
              "title": "Yearly Change in Population"
             },
             "field": "y",
             "type": "quantitative"
            }
           },
           "mark": {
            "opacity": 1,
            "size": 100,
            "type": "circle"
           }
          },
          {
           "data": {
            "name": "data-37fe77f320fec3872530664b045db78e"
           },
           "encoding": {
            "x": {
             "field": "x",
             "type": "quantitative"
            },
            "y": {
             "field": "y",
             "type": "quantitative"
            }
           },
           "mark": {
            "color": "#4FB0C6",
            "strokeDash": [
             5,
             5
            ],
            "strokeWidth": 2,
            "type": "line"
           }
          }
         ]
        }
       ],
       "width": 400
      },
      "image/png": "[encoded data removed]",
      "text/plain": [
       "<VegaLite 2 object>\n",
       "\n",
       "If you see this message, it means the renderer has not been properly enabled\n",
       "for the frontend that you are using. For more information, see\n",
       "https://altair-viz.github.io/user_guide/troubleshooting.html\n"
      ]
     },
     "execution_count": 30,
     "metadata": {},
     "output_type": "execute_result"
    }
   ],
   "source": [
    "base = alt.Chart(pop).mark_line(color='#b8b8ba').encode(\n",
    "    x = alt.X('Year', scale = alt.Scale(domain=[1956, 2021]), axis=alt.Axis(format='f', tickCount=6))\n",
    ")\n",
    "\n",
    "pop_line = base.encode(\n",
    "    y = alt.Y('Population:Q', scale = alt.Scale(domain=[2500000, 4000000]), axis=alt.Axis(format='s')),\n",
    "    tooltip = ['Year', 'Population']\n",
    ").properties(title=\"Population of Lithuania: 1960 - 2017\", width=wd, height=hg)\n",
    "\n",
    "circs = alt.Chart(circs_df).mark_circle(size=100, opacity=1.).encode(\n",
    "    x = 'x',\n",
    "    y = 'y',\n",
    "    color = alt.Color('y:N', scale=alt.Scale(domain=circs_y, \n",
    "                                             range=colors), legend=None)\n",
    ")\n",
    "\n",
    "ind = alt.Chart(loc_df).mark_text().encode(\n",
    "    x = alt.X('x', axis=alt.Axis(title='Year')),\n",
    "    y = alt.Y('y', axis=alt.Axis(title='Population')),\n",
    "    color = alt.Color('y:N', scale=alt.Scale(domain=text_y, \n",
    "                                             range=colors), legend=None),\n",
    "    text = 'text',\n",
    "    size = alt.value(14)\n",
    ")\n",
    "\n",
    "\n",
    "ch_line = base.encode(\n",
    "    y = alt.Y('Yearly Change:Q', scale = alt.Scale(domain=[-90000.0, 50000.0]), axis=alt.Axis(format='s')),\n",
    "    tooltip = ['Year', 'Yearly Change']\n",
    ").properties(width=wd, height=hg)\n",
    "\n",
    "\n",
    "circs_ch = alt.Chart(circs_ch_df).mark_circle(size=100, opacity=1.).encode(\n",
    "    x = alt.X('x', axis=alt.Axis(title='Year')),\n",
    "    y = alt.Y('y', axis=alt.Axis(title='Yearly Change in Population')),\n",
    "    color = alt.Color('y:N', scale=alt.Scale(domain=circs_ch_y, \n",
    "                                             range=colors), legend=None)\n",
    ")\n",
    "\n",
    "zero_ln = alt.Chart(zero_line_df).mark_line(color='#4FB0C6', strokeWidth=2, strokeDash=[5, 5]).encode(\n",
    "    x = 'x',\n",
    "    y = 'y'\n",
    ")\n",
    "\n",
    "(pop_line + circs + ind) & (ch_line + circs_ch + zero_ln)"
   ]
  },
  {
   "cell_type": "code",
   "execution_count": 11,
   "metadata": {},
   "outputs": [],
   "source": [
    "# make location df for text\n",
    "locs = {'x': [2015, 2000, 2005], 'y': [3800000, 3200000, 3000000], \n",
    "        'text': ['Gained independence in 1990', 'Joined EU in 2004', 'Global financial crisis of 2008']}\n",
    "loc_df = pd.DataFrame.from_dict(locs)"
   ]
  },
  {
   "cell_type": "code",
   "execution_count": 12,
   "metadata": {},
   "outputs": [
    {
     "data": {
      "application/vnd.vegalite.v2+json": {
       "$schema": "https://vega.github.io/schema/vega-lite/v2.6.0.json",
       "config": {
        "axisX": {
         "domain": true,
         "domainColor": "black",
         "domainWidth": 1,
         "grid": false,
         "labelAngle": 0,
         "labelColor": "black",
         "labelFont": "Poppins",
         "labelFontSize": 12,
         "tickColor": "black",
         "tickSize": 5,
         "titleColor": "black",
         "titleFont": "Poppins",
         "titleFontSize": 14,
         "titlePadding": 5
        },
        "axisY": {
         "domain": false,
         "grid": false,
         "gridColor": "white",
         "gridWidth": 1,
         "labelAngle": 0,
         "labelColor": "black",
         "labelFont": "Poppins",
         "labelFontSize": 12,
         "labelPadding": 5,
         "ticks": false,
         "titleColor": "black",
         "titleFont": "Poppins",
         "titleFontSize": 14,
         "titlePadding": 5
        },
        "bar": {
         "binSpacing": 1,
         "continuousBandSize": 30,
         "discreteBandSize": 30,
         "size": 40,
         "stroke": false
        },
        "circle": {
         "size": 50,
         "stroke": "white",
         "strokeWidth": 0.5
        },
        "legend": {
         "labelFont": "Poppins",
         "labelFontSize": 12,
         "offset": 0,
         "orient": "top-right",
         "symbolSize": 100,
         "symbolType": "circle",
         "title": "",
         "titleFont": "Poppins",
         "titleFontSize": 14
        },
        "line": {
         "strokeWidth": 3
        },
        "path": {
         "strokeWidth": 0.5
        },
        "point": {
         "size": 50
        },
        "range": {
         "category": [
          "#47b8e0",
          "#ffc952",
          "#a5d296",
          "#ff7473",
          "#7f9eb2",
          "#f1bbba",
          "#D1B6E1",
          "#D9D4CF"
         ],
         "diverging": [
          "#eff3ff",
          "#c6dbef",
          "#9ecae1",
          "#6baed6",
          "#3182bd",
          "#08519c"
         ]
        },
        "text": {
         "align": "right",
         "font": "Poppins",
         "fontSize": 11,
         "fontWeight": 400,
         "size": 11
        },
        "title": {
         "anchor": "center",
         "font": "Poppins",
         "fontSize": 18,
         "offset": 15
        },
        "trail": {
         "size": 1,
         "strokeWidth": 0
        },
        "view": {
         "stroke": "transparent"
        }
       },
       "datasets": {
        "data-0dc01439ff695e2fc75efc5640833b38": [
         {
          "Population": 2778550,
          "Year": 1960,
          "Yearly Change": null,
          "Yearly Change (%)": null
         },
         {
          "Population": 2823550,
          "Year": 1961,
          "Yearly Change": 45000,
          "Yearly Change (%)": 1.62
         },
         {
          "Population": 2863350,
          "Year": 1962,
          "Yearly Change": 39800,
          "Yearly Change (%)": 1.41
         },
         {
          "Population": 2898950,
          "Year": 1963,
          "Yearly Change": 35600,
          "Yearly Change (%)": 1.24
         },
         {
          "Population": 2935200,
          "Year": 1964,
          "Yearly Change": 36250,
          "Yearly Change (%)": 1.25
         },
         {
          "Population": 2971450,
          "Year": 1965,
          "Yearly Change": 36250,
          "Yearly Change (%)": 1.24
         },
         {
          "Population": 3008050,
          "Year": 1966,
          "Yearly Change": 36600,
          "Yearly Change (%)": 1.23
         },
         {
          "Population": 3044400,
          "Year": 1967,
          "Yearly Change": 36350,
          "Yearly Change (%)": 1.21
         },
         {
          "Population": 3078850,
          "Year": 1968,
          "Yearly Change": 34450,
          "Yearly Change (%)": 1.13
         },
         {
          "Population": 3107321,
          "Year": 1969,
          "Yearly Change": 28471,
          "Yearly Change (%)": 0.92
         },
         {
          "Population": 3139689,
          "Year": 1970,
          "Yearly Change": 32368,
          "Yearly Change (%)": 1.04
         },
         {
          "Population": 3179041,
          "Year": 1971,
          "Yearly Change": 39352,
          "Yearly Change (%)": 1.25
         },
         {
          "Population": 3213622,
          "Year": 1972,
          "Yearly Change": 34581,
          "Yearly Change (%)": 1.09
         },
         {
          "Population": 3244438,
          "Year": 1973,
          "Yearly Change": 30816,
          "Yearly Change (%)": 0.96
         },
         {
          "Population": 3273894,
          "Year": 1974,
          "Yearly Change": 29456,
          "Yearly Change (%)": 0.91
         },
         {
          "Population": 3301652,
          "Year": 1975,
          "Yearly Change": 27758,
          "Yearly Change (%)": 0.85
         },
         {
          "Population": 3328664,
          "Year": 1976,
          "Yearly Change": 27012,
          "Yearly Change (%)": 0.82
         },
         {
          "Population": 3355036,
          "Year": 1977,
          "Yearly Change": 26372,
          "Yearly Change (%)": 0.79
         },
         {
          "Population": 3379514,
          "Year": 1978,
          "Yearly Change": 24478,
          "Yearly Change (%)": 0.73
         },
         {
          "Population": 3397842,
          "Year": 1979,
          "Yearly Change": 18328,
          "Yearly Change (%)": 0.54
         },
         {
          "Population": 3413202,
          "Year": 1980,
          "Yearly Change": 15360,
          "Yearly Change (%)": 0.45
         },
         {
          "Population": 3432947,
          "Year": 1981,
          "Yearly Change": 19745,
          "Yearly Change (%)": 0.58
         },
         {
          "Population": 3457179,
          "Year": 1982,
          "Yearly Change": 24232,
          "Yearly Change (%)": 0.71
         },
         {
          "Population": 3485192,
          "Year": 1983,
          "Yearly Change": 28013,
          "Yearly Change (%)": 0.81
         },
         {
          "Population": 3514205,
          "Year": 1984,
          "Yearly Change": 29013,
          "Yearly Change (%)": 0.83
         },
         {
          "Population": 3544543,
          "Year": 1985,
          "Yearly Change": 30338,
          "Yearly Change (%)": 0.86
         },
         {
          "Population": 3578914,
          "Year": 1986,
          "Yearly Change": 34371,
          "Yearly Change (%)": 0.97
         },
         {
          "Population": 3616367,
          "Year": 1987,
          "Yearly Change": 37453,
          "Yearly Change (%)": 1.05
         },
         {
          "Population": 3655049,
          "Year": 1988,
          "Yearly Change": 38682,
          "Yearly Change (%)": 1.07
         },
         {
          "Population": 3684255,
          "Year": 1989,
          "Yearly Change": 29206,
          "Yearly Change (%)": 0.8
         },
         {
          "Population": 3697838,
          "Year": 1990,
          "Yearly Change": 13583,
          "Yearly Change (%)": 0.37
         },
         {
          "Population": 3704134,
          "Year": 1991,
          "Yearly Change": 6296,
          "Yearly Change (%)": 0.17
         },
         {
          "Population": 3700114,
          "Year": 1992,
          "Yearly Change": -4020,
          "Yearly Change (%)": -0.11
         },
         {
          "Population": 3682613,
          "Year": 1993,
          "Yearly Change": -17501,
          "Yearly Change (%)": -0.47
         },
         {
          "Population": 3657144,
          "Year": 1994,
          "Yearly Change": -25469,
          "Yearly Change (%)": -0.69
         },
         {
          "Population": 3629102,
          "Year": 1995,
          "Yearly Change": -28042,
          "Yearly Change (%)": -0.77
         },
         {
          "Population": 3601613,
          "Year": 1996,
          "Yearly Change": -27489,
          "Yearly Change (%)": -0.76
         },
         {
          "Population": 3575137,
          "Year": 1997,
          "Yearly Change": -26476,
          "Yearly Change (%)": -0.74
         },
         {
          "Population": 3549331,
          "Year": 1998,
          "Yearly Change": -25806,
          "Yearly Change (%)": -0.72
         },
         {
          "Population": 3524238,
          "Year": 1999,
          "Yearly Change": -25093,
          "Yearly Change (%)": -0.71
         },
         {
          "Population": 3499536,
          "Year": 2000,
          "Yearly Change": -24702,
          "Yearly Change (%)": -0.7
         },
         {
          "Population": 3470818,
          "Year": 2001,
          "Yearly Change": -28718,
          "Yearly Change (%)": -0.82
         },
         {
          "Population": 3443067,
          "Year": 2002,
          "Yearly Change": -27751,
          "Yearly Change (%)": -0.8
         },
         {
          "Population": 3415213,
          "Year": 2003,
          "Yearly Change": -27854,
          "Yearly Change (%)": -0.81
         },
         {
          "Population": 3377075,
          "Year": 2004,
          "Yearly Change": -38138,
          "Yearly Change (%)": -1.12
         },
         {
          "Population": 3322528,
          "Year": 2005,
          "Yearly Change": -54547,
          "Yearly Change (%)": -1.62
         },
         {
          "Population": 3269909,
          "Year": 2006,
          "Yearly Change": -52619,
          "Yearly Change (%)": -1.58
         },
         {
          "Population": 3231294,
          "Year": 2007,
          "Yearly Change": -38615,
          "Yearly Change (%)": -1.18
         },
         {
          "Population": 3198231,
          "Year": 2008,
          "Yearly Change": -33063,
          "Yearly Change (%)": -1.02
         },
         {
          "Population": 3162916,
          "Year": 2009,
          "Yearly Change": -35315,
          "Yearly Change (%)": -1.1
         },
         {
          "Population": 3097282,
          "Year": 2010,
          "Yearly Change": -65634,
          "Yearly Change (%)": -2.08
         },
         {
          "Population": 3028115,
          "Year": 2011,
          "Yearly Change": -69167,
          "Yearly Change (%)": -2.23
         },
         {
          "Population": 2987773,
          "Year": 2012,
          "Yearly Change": -40342,
          "Yearly Change (%)": -1.33
         },
         {
          "Population": 2957689,
          "Year": 2013,
          "Yearly Change": -30084,
          "Yearly Change (%)": -1.01
         },
         {
          "Population": 2932367,
          "Year": 2014,
          "Yearly Change": -25322,
          "Yearly Change (%)": -0.86
         },
         {
          "Population": 2904910,
          "Year": 2015,
          "Yearly Change": -27457,
          "Yearly Change (%)": -0.94
         },
         {
          "Population": 2868231,
          "Year": 2016,
          "Yearly Change": -36679,
          "Yearly Change (%)": -1.26
         },
         {
          "Population": 2827721,
          "Year": 2017,
          "Yearly Change": -40510,
          "Yearly Change (%)": -1.41
         }
        ],
        "data-fc918d05b1053e65c0eba5c36ef8c44f": [
         {
          "text": "Gained independence in 1990",
          "x": 2015,
          "y": 3800000
         },
         {
          "text": "Joined EU in 2004",
          "x": 2000,
          "y": 3200000
         },
         {
          "text": "Global financial crisis of 2008",
          "x": 2005,
          "y": 3000000
         }
        ]
       },
       "height": 300,
       "layer": [
        {
         "data": {
          "name": "data-0dc01439ff695e2fc75efc5640833b38"
         },
         "encoding": {
          "tooltip": [
           {
            "field": "Year",
            "type": "quantitative"
           },
           {
            "field": "Population",
            "type": "quantitative"
           }
          ],
          "x": {
           "axis": {
            "format": "f",
            "grid": true,
            "tickCount": 8
           },
           "field": "Year",
           "scale": {
            "domain": [
             1955,
             2020
            ]
           },
           "type": "quantitative"
          },
          "y": {
           "axis": {
            "format": "s"
           },
           "field": "Population",
           "scale": {
            "domain": [
             2500000,
             4000000
            ]
           },
           "type": "quantitative"
          }
         },
         "mark": {
          "color": "#011627",
          "type": "line"
         },
         "transform": [
          {
           "filter": "(datum.Year <= 1990)"
          }
         ]
        },
        {
         "data": {
          "name": "data-0dc01439ff695e2fc75efc5640833b38"
         },
         "encoding": {
          "tooltip": [
           {
            "field": "Year",
            "type": "quantitative"
           },
           {
            "field": "Population",
            "type": "quantitative"
           }
          ],
          "x": {
           "axis": {
            "format": "f",
            "grid": true,
            "tickCount": 8
           },
           "field": "Year",
           "scale": {
            "domain": [
             1955,
             2020
            ]
           },
           "type": "quantitative"
          },
          "y": {
           "axis": {
            "format": "s"
           },
           "field": "Population",
           "scale": {
            "domain": [
             2500000,
             4000000
            ]
           },
           "type": "quantitative"
          }
         },
         "mark": {
          "color": "#4FB0C6",
          "type": "line"
         },
         "transform": [
          {
           "filter": "((datum.Year >= 1990) && (datum.Year <= 2004))"
          }
         ]
        },
        {
         "data": {
          "name": "data-0dc01439ff695e2fc75efc5640833b38"
         },
         "encoding": {
          "tooltip": [
           {
            "field": "Year",
            "type": "quantitative"
           },
           {
            "field": "Population",
            "type": "quantitative"
           }
          ],
          "x": {
           "axis": {
            "format": "f",
            "grid": true,
            "tickCount": 8
           },
           "field": "Year",
           "scale": {
            "domain": [
             1955,
             2020
            ]
           },
           "type": "quantitative"
          },
          "y": {
           "axis": {
            "format": "s"
           },
           "field": "Population",
           "scale": {
            "domain": [
             2500000,
             4000000
            ]
           },
           "type": "quantitative"
          }
         },
         "mark": {
          "color": "#D81159",
          "type": "line"
         },
         "transform": [
          {
           "filter": "((datum.Year >= 2004) && (datum.Year <= 2009))"
          }
         ]
        },
        {
         "data": {
          "name": "data-0dc01439ff695e2fc75efc5640833b38"
         },
         "encoding": {
          "tooltip": [
           {
            "field": "Year",
            "type": "quantitative"
           },
           {
            "field": "Population",
            "type": "quantitative"
           }
          ],
          "x": {
           "axis": {
            "format": "f",
            "grid": true,
            "tickCount": 8
           },
           "field": "Year",
           "scale": {
            "domain": [
             1955,
             2020
            ]
           },
           "type": "quantitative"
          },
          "y": {
           "axis": {
            "format": "s"
           },
           "field": "Population",
           "scale": {
            "domain": [
             2500000,
             4000000
            ]
           },
           "type": "quantitative"
          }
         },
         "mark": {
          "color": "#FFBC42",
          "type": "line"
         },
         "transform": [
          {
           "filter": "((datum.Year >= 2009) && (datum.Year <= 2012))"
          }
         ]
        },
        {
         "data": {
          "name": "data-0dc01439ff695e2fc75efc5640833b38"
         },
         "encoding": {
          "tooltip": [
           {
            "field": "Year",
            "type": "quantitative"
           },
           {
            "field": "Population",
            "type": "quantitative"
           }
          ],
          "x": {
           "axis": {
            "format": "f",
            "grid": true,
            "tickCount": 8
           },
           "field": "Year",
           "scale": {
            "domain": [
             1955,
             2020
            ]
           },
           "type": "quantitative"
          },
          "y": {
           "axis": {
            "format": "s"
           },
           "field": "Population",
           "scale": {
            "domain": [
             2500000,
             4000000
            ]
           },
           "type": "quantitative"
          }
         },
         "mark": {
          "color": "#a5d296",
          "type": "line"
         },
         "transform": [
          {
           "filter": "(datum.Year >= 2012)"
          }
         ]
        },
        {
         "data": {
          "name": "data-fc918d05b1053e65c0eba5c36ef8c44f"
         },
         "encoding": {
          "color": {
           "field": "y",
           "legend": null,
           "scale": {
            "domain": [
             "3800000",
             "3200000",
             "3000000"
            ],
            "range": [
             "#4FB0C6",
             "#D81159",
             "#FFBC42"
            ]
           },
           "type": "nominal"
          },
          "size": {
           "value": 15
          },
          "text": {
           "field": "text",
           "type": "nominal"
          },
          "x": {
           "axis": {
            "title": "Year"
           },
           "field": "x",
           "type": "quantitative"
          },
          "y": {
           "axis": {
            "title": "Population"
           },
           "field": "y",
           "type": "quantitative"
          }
         },
         "mark": "text"
        }
       ],
       "title": "Population of Lithuania: 1960 - 2017",
       "width": 600
      },
      "image/png": "[encoded data removed]",
      "text/plain": [
       "<VegaLite 2 object>\n",
       "\n",
       "If you see this message, it means the renderer has not been properly enabled\n",
       "for the frontend that you are using. For more information, see\n",
       "https://altair-viz.github.io/user_guide/troubleshooting.html\n"
      ]
     },
     "execution_count": 12,
     "metadata": {},
     "output_type": "execute_result"
    }
   ],
   "source": [
    "base = alt.Chart(pop).mark_line().encode(\n",
    "    x = alt.X('Year', scale = alt.Scale(domain=[1955, 2020]), axis=alt.Axis(format='f', tickCount=8, \n",
    "                                                                            grid=True)),\n",
    "    y = alt.Y('Population:Q', scale = alt.Scale(domain=[2500000, 4000000]), axis=alt.Axis(format='s')),\n",
    "    tooltip = ['Year', 'Population']\n",
    ")\n",
    "\n",
    "one = base.mark_line(color='#011627').transform_filter(\n",
    "    datum.Year <= 1990\n",
    ")\n",
    "\n",
    "two = base.mark_line(color='#4FB0C6').transform_filter(\n",
    "    (datum.Year >= 1990) & (datum.Year <= 2004)\n",
    ")\n",
    "\n",
    "three = base.mark_line(color='#D81159').transform_filter(\n",
    "    (datum.Year >= 2004) & (datum.Year <= 2009)\n",
    ")\n",
    "\n",
    "four = base.mark_line(color='#FFBC42').transform_filter(\n",
    "    (datum.Year >= 2009) & (datum.Year <= 2012)\n",
    ")\n",
    "\n",
    "five = base.mark_line(color='#a5d296').transform_filter(\n",
    "    datum.Year >= 2012\n",
    ")\n",
    "\n",
    "ind = alt.Chart(loc_df).mark_text().encode(\n",
    "    x = alt.X('x', axis=alt.Axis(title='Year')),\n",
    "    y = alt.Y('y', axis=alt.Axis(title='Population')),\n",
    "    text = 'text',\n",
    "    size = alt.value(15), \n",
    "    color = alt.Color('y:N', scale=alt.Scale(domain=['3800000', '3200000', '3000000'], \n",
    "                                             range=['#4FB0C6', '#D81159', '#FFBC42']), \n",
    "                      legend=None)\n",
    ")\n",
    "\n",
    "(one + two + three + four + five + ind).properties(title=\"Population of Lithuania: 1960 - 2017\", width=600)"
   ]
  },
  {
   "cell_type": "markdown",
   "metadata": {},
   "source": [
    "## Migration in Europe"
   ]
  },
  {
   "cell_type": "code",
   "execution_count": 13,
   "metadata": {},
   "outputs": [],
   "source": [
    "mig_per_year = pd.read_csv('../raw_data/data_from_emn/migration_per_1000.csv')"
   ]
  },
  {
   "cell_type": "code",
   "execution_count": 14,
   "metadata": {},
   "outputs": [
    {
     "data": {
      "text/html": [
       "<div>\n",
       "<style scoped>\n",
       "    .dataframe tbody tr th:only-of-type {\n",
       "        vertical-align: middle;\n",
       "    }\n",
       "\n",
       "    .dataframe tbody tr th {\n",
       "        vertical-align: top;\n",
       "    }\n",
       "\n",
       "    .dataframe thead th {\n",
       "        text-align: right;\n",
       "    }\n",
       "</style>\n",
       "<table border=\"1\" class=\"dataframe\">\n",
       "  <thead>\n",
       "    <tr style=\"text-align: right;\">\n",
       "      <th></th>\n",
       "      <th>Country</th>\n",
       "      <th>Net migration per 1000 residents</th>\n",
       "    </tr>\n",
       "  </thead>\n",
       "  <tbody>\n",
       "    <tr>\n",
       "      <th>0</th>\n",
       "      <td>Luxembourg</td>\n",
       "      <td>19.6</td>\n",
       "    </tr>\n",
       "    <tr>\n",
       "      <th>1</th>\n",
       "      <td>Austria</td>\n",
       "      <td>14.2</td>\n",
       "    </tr>\n",
       "    <tr>\n",
       "      <th>2</th>\n",
       "      <td>Germany</td>\n",
       "      <td>14.1</td>\n",
       "    </tr>\n",
       "    <tr>\n",
       "      <th>3</th>\n",
       "      <td>Ireland</td>\n",
       "      <td>12.6</td>\n",
       "    </tr>\n",
       "    <tr>\n",
       "      <th>4</th>\n",
       "      <td>Malta</td>\n",
       "      <td>9.7</td>\n",
       "    </tr>\n",
       "    <tr>\n",
       "      <th>23</th>\n",
       "      <td>Cyprus</td>\n",
       "      <td>-2.4</td>\n",
       "    </tr>\n",
       "    <tr>\n",
       "      <th>24</th>\n",
       "      <td>Greece</td>\n",
       "      <td>-4.1</td>\n",
       "    </tr>\n",
       "    <tr>\n",
       "      <th>25</th>\n",
       "      <td>Croatia</td>\n",
       "      <td>-4.3</td>\n",
       "    </tr>\n",
       "    <tr>\n",
       "      <th>26</th>\n",
       "      <td>Latvia</td>\n",
       "      <td>-5.4</td>\n",
       "    </tr>\n",
       "    <tr>\n",
       "      <th>27</th>\n",
       "      <td>Lithuania</td>\n",
       "      <td>-7.7</td>\n",
       "    </tr>\n",
       "  </tbody>\n",
       "</table>\n",
       "</div>"
      ],
      "text/plain": [
       "       Country  Net migration per 1000 residents\n",
       "0   Luxembourg                              19.6\n",
       "1      Austria                              14.2\n",
       "2      Germany                              14.1\n",
       "3      Ireland                              12.6\n",
       "4        Malta                               9.7\n",
       "23      Cyprus                              -2.4\n",
       "24      Greece                              -4.1\n",
       "25     Croatia                              -4.3\n",
       "26      Latvia                              -5.4\n",
       "27   Lithuania                              -7.7"
      ]
     },
     "execution_count": 14,
     "metadata": {},
     "output_type": "execute_result"
    }
   ],
   "source": [
    "mig_per_year[:5].append(mig_per_year[-5:])"
   ]
  },
  {
   "cell_type": "code",
   "execution_count": 15,
   "metadata": {},
   "outputs": [],
   "source": [
    "def graph_migration(data: pd.DataFrame, x_feat: str, y_feat: str, title_end: str):\n",
    "    chart = alt.Chart(data).mark_bar().encode(\n",
    "        y = alt.Y(x_feat, sort=alt.EncodingSortField(field='Net migration per 1000 residents', \n",
    "                                                     op='count', order='descending'), title=''),\n",
    "        x = alt.X(y_feat),\n",
    "        color = alt.condition(\n",
    "            alt.datum[x_feat] == 'Lithuania', \n",
    "            alt.value('#FFBC42'),     \n",
    "            alt.value('#4FB0C6')   \n",
    "        )\n",
    "    ).properties(title=f'Countries with the Lowest and Highest {title_end}')\n",
    "    return chart"
   ]
  },
  {
   "cell_type": "code",
   "execution_count": 16,
   "metadata": {},
   "outputs": [
    {
     "data": {
      "application/vnd.vegalite.v2+json": {
       "$schema": "https://vega.github.io/schema/vega-lite/v2.6.0.json",
       "config": {
        "axisX": {
         "domain": true,
         "domainColor": "black",
         "domainWidth": 1,
         "grid": false,
         "labelAngle": 0,
         "labelColor": "black",
         "labelFont": "Poppins",
         "labelFontSize": 12,
         "tickColor": "black",
         "tickSize": 5,
         "titleColor": "black",
         "titleFont": "Poppins",
         "titleFontSize": 14,
         "titlePadding": 5
        },
        "axisY": {
         "domain": false,
         "grid": false,
         "gridColor": "white",
         "gridWidth": 1,
         "labelAngle": 0,
         "labelColor": "black",
         "labelFont": "Poppins",
         "labelFontSize": 12,
         "labelPadding": 5,
         "ticks": false,
         "titleColor": "black",
         "titleFont": "Poppins",
         "titleFontSize": 14,
         "titlePadding": 5
        },
        "bar": {
         "binSpacing": 1,
         "continuousBandSize": 30,
         "discreteBandSize": 30,
         "size": 40,
         "stroke": false
        },
        "circle": {
         "size": 50,
         "stroke": "white",
         "strokeWidth": 0.5
        },
        "legend": {
         "labelFont": "Poppins",
         "labelFontSize": 12,
         "offset": 0,
         "orient": "top-right",
         "symbolSize": 100,
         "symbolType": "circle",
         "title": "",
         "titleFont": "Poppins",
         "titleFontSize": 14
        },
        "line": {
         "strokeWidth": 3
        },
        "path": {
         "strokeWidth": 0.5
        },
        "point": {
         "size": 50
        },
        "range": {
         "category": [
          "#47b8e0",
          "#ffc952",
          "#a5d296",
          "#ff7473",
          "#7f9eb2",
          "#f1bbba",
          "#D1B6E1",
          "#D9D4CF"
         ],
         "diverging": [
          "#eff3ff",
          "#c6dbef",
          "#9ecae1",
          "#6baed6",
          "#3182bd",
          "#08519c"
         ]
        },
        "text": {
         "align": "right",
         "font": "Poppins",
         "fontSize": 11,
         "fontWeight": 400,
         "size": 11
        },
        "title": {
         "anchor": "center",
         "font": "Poppins",
         "fontSize": 18,
         "offset": 15
        },
        "trail": {
         "size": 1,
         "strokeWidth": 0
        },
        "view": {
         "stroke": "transparent"
        }
       },
       "data": {
        "name": "data-6edcdc2a516a0ad3394ab6eceffd6512"
       },
       "datasets": {
        "data-6edcdc2a516a0ad3394ab6eceffd6512": [
         {
          "Country": "Luxembourg",
          "Net migration per 1000 residents": 19.6
         },
         {
          "Country": "Austria",
          "Net migration per 1000 residents": 14.2
         },
         {
          "Country": "Germany",
          "Net migration per 1000 residents": 14.1
         },
         {
          "Country": "Ireland",
          "Net migration per 1000 residents": 12.6
         },
         {
          "Country": "Malta",
          "Net migration per 1000 residents": 9.7
         },
         {
          "Country": "Cyprus",
          "Net migration per 1000 residents": -2.4
         },
         {
          "Country": "Greece",
          "Net migration per 1000 residents": -4.1
         },
         {
          "Country": "Croatia",
          "Net migration per 1000 residents": -4.3
         },
         {
          "Country": "Latvia",
          "Net migration per 1000 residents": -5.4
         },
         {
          "Country": "Lithuania",
          "Net migration per 1000 residents": -7.7
         }
        ]
       },
       "encoding": {
        "color": {
         "condition": {
          "test": "(datum['Country'] === 'Lithuania')",
          "value": "#FFBC42"
         },
         "value": "#4FB0C6"
        },
        "x": {
         "field": "Net migration per 1000 residents",
         "type": "quantitative"
        },
        "y": {
         "field": "Country",
         "sort": {
          "field": "Net migration per 1000 residents",
          "op": "count",
          "order": "descending"
         },
         "title": "",
         "type": "nominal"
        }
       },
       "height": 300,
       "mark": "bar",
       "title": "Countries with the Lowest and Highest Migration in Europe (2015)",
       "width": 400
      },
      "image/png": "[encoded data removed]",
      "text/plain": [
       "<VegaLite 2 object>\n",
       "\n",
       "If you see this message, it means the renderer has not been properly enabled\n",
       "for the frontend that you are using. For more information, see\n",
       "https://altair-viz.github.io/user_guide/troubleshooting.html\n"
      ]
     },
     "execution_count": 16,
     "metadata": {},
     "output_type": "execute_result"
    }
   ],
   "source": [
    "# 2015\n",
    "graph_migration(mig_per_year[:5].append(mig_per_year[-5:]), 'Country', 'Net migration per 1000 residents', \n",
    "                'Migration in Europe (2015)')"
   ]
  },
  {
   "cell_type": "code",
   "execution_count": 17,
   "metadata": {},
   "outputs": [
    {
     "data": {
      "application/vnd.vegalite.v2+json": {
       "$schema": "https://vega.github.io/schema/vega-lite/v2.6.0.json",
       "config": {
        "axisX": {
         "domain": true,
         "domainColor": "black",
         "domainWidth": 1,
         "grid": false,
         "labelAngle": 0,
         "labelColor": "black",
         "labelFont": "Poppins",
         "labelFontSize": 12,
         "tickColor": "black",
         "tickSize": 5,
         "titleColor": "black",
         "titleFont": "Poppins",
         "titleFontSize": 14,
         "titlePadding": 5
        },
        "axisY": {
         "domain": false,
         "grid": false,
         "gridColor": "white",
         "gridWidth": 1,
         "labelAngle": 0,
         "labelColor": "black",
         "labelFont": "Poppins",
         "labelFontSize": 12,
         "labelPadding": 5,
         "ticks": false,
         "titleColor": "black",
         "titleFont": "Poppins",
         "titleFontSize": 14,
         "titlePadding": 5
        },
        "bar": {
         "binSpacing": 1,
         "continuousBandSize": 30,
         "discreteBandSize": 30,
         "size": 40,
         "stroke": false
        },
        "circle": {
         "size": 50,
         "stroke": "white",
         "strokeWidth": 0.5
        },
        "legend": {
         "labelFont": "Poppins",
         "labelFontSize": 12,
         "offset": 0,
         "orient": "top-right",
         "symbolSize": 100,
         "symbolType": "circle",
         "title": "",
         "titleFont": "Poppins",
         "titleFontSize": 14
        },
        "line": {
         "strokeWidth": 3
        },
        "path": {
         "strokeWidth": 0.5
        },
        "point": {
         "size": 50
        },
        "range": {
         "category": [
          "#47b8e0",
          "#ffc952",
          "#a5d296",
          "#ff7473",
          "#7f9eb2",
          "#f1bbba",
          "#D1B6E1",
          "#D9D4CF"
         ],
         "diverging": [
          "#eff3ff",
          "#c6dbef",
          "#9ecae1",
          "#6baed6",
          "#3182bd",
          "#08519c"
         ]
        },
        "text": {
         "align": "right",
         "font": "Poppins",
         "fontSize": 11,
         "fontWeight": 400,
         "size": 11
        },
        "title": {
         "anchor": "center",
         "font": "Poppins",
         "fontSize": 18,
         "offset": 15
        },
        "trail": {
         "size": 1,
         "strokeWidth": 0
        },
        "view": {
         "stroke": "transparent"
        }
       },
       "data": {
        "name": "data-07d8d04528864983ea29b5b0dd324bce"
       },
       "datasets": {
        "data-07d8d04528864983ea29b5b0dd324bce": [
         {
          "Country": "Luxembourg",
          "Net migration per 1000 residents": 19.6
         },
         {
          "Country": "Austria",
          "Net migration per 1000 residents": 14.2
         },
         {
          "Country": "Germany",
          "Net migration per 1000 residents": 14.1
         },
         {
          "Country": "Ireland",
          "Net migration per 1000 residents": 12.6
         },
         {
          "Country": "Malta",
          "Net migration per 1000 residents": 9.7
         },
         {
          "Country": "Sweden",
          "Net migration per 1000 residents": 8.1
         },
         {
          "Country": "Denmark",
          "Net migration per 1000 residents": 7.4
         },
         {
          "Country": "Belgium",
          "Net migration per 1000 residents": 6.1
         },
         {
          "Country": "United Kingdom",
          "Net migration per 1000 residents": 5.1
         },
         {
          "Country": "Netherlands",
          "Net migration per 1000 residents": 3.3
         },
         {
          "Country": "Estonia",
          "Net migration per 1000 residents": 3
         },
         {
          "Country": "Finland",
          "Net migration per 1000 residents": 2.3
         },
         {
          "Country": "Czech Republic",
          "Net migration per 1000 residents": 1.5
         },
         {
          "Country": "Hungary",
          "Net migration per 1000 residents": 1.5
         },
         {
          "Country": "France",
          "Net migration per 1000 residents": 0.7
         },
         {
          "Country": "Slovakia",
          "Net migration per 1000 residents": 0.6
         },
         {
          "Country": "Italy",
          "Net migration per 1000 residents": 0.5
         },
         {
          "Country": "Slovenia",
          "Net migration per 1000 residents": 0.2
         },
         {
          "Country": "Spain",
          "Net migration per 1000 residents": -0.2
         },
         {
          "Country": "Poland",
          "Net migration per 1000 residents": -0.3
         },
         {
          "Country": "Bulgaria",
          "Net migration per 1000 residents": -0.6
         },
         {
          "Country": "Portugal",
          "Net migration per 1000 residents": -1
         },
         {
          "Country": "Romania",
          "Net migration per 1000 residents": -1.8
         },
         {
          "Country": "Cyprus",
          "Net migration per 1000 residents": -2.4
         },
         {
          "Country": "Greece",
          "Net migration per 1000 residents": -4.1
         },
         {
          "Country": "Croatia",
          "Net migration per 1000 residents": -4.3
         },
         {
          "Country": "Latvia",
          "Net migration per 1000 residents": -5.4
         },
         {
          "Country": "Lithuania",
          "Net migration per 1000 residents": -7.7
         }
        ]
       },
       "encoding": {
        "text": {
         "field": "Net migration per 1000 residents",
         "type": "quantitative"
        }
       },
       "height": 50,
       "mark": {
        "fontSize": 20,
        "type": "text"
       },
       "selection": {
        "Net migration per 1000 residents for": {
         "bind": {
          "input": "select",
          "options": [
           "Luxembourg",
           "Austria",
           "Germany",
           "Ireland",
           "Malta",
           "Sweden",
           "Denmark",
           "Belgium",
           "United Kingdom",
           "Netherlands",
           "Estonia",
           "Finland",
           "Czech Republic",
           "Hungary",
           "France",
           "Slovakia",
           "Italy",
           "Slovenia",
           "Spain",
           "Poland",
           "Bulgaria",
           "Portugal",
           "Romania",
           "Cyprus",
           "Greece",
           "Croatia",
           "Latvia",
           "Lithuania"
          ]
         },
         "empty": "all",
         "fields": [
          "Country"
         ],
         "on": "click",
         "resolve": "global",
         "type": "single"
        }
       },
       "transform": [
        {
         "filter": {
          "selection": "Net migration per 1000 residents for"
         }
        }
       ],
       "width": 200
      },
      "image/png": "[encoded data removed]",
      "text/plain": [
       "<VegaLite 2 object>\n",
       "\n",
       "If you see this message, it means the renderer has not been properly enabled\n",
       "for the frontend that you are using. For more information, see\n",
       "https://altair-viz.github.io/user_guide/troubleshooting.html\n"
      ]
     },
     "execution_count": 17,
     "metadata": {},
     "output_type": "execute_result"
    }
   ],
   "source": [
    "input_dropdown = alt.binding_select(options=mig_per_year.Country.unique().tolist())\n",
    "selection = alt.selection_single(fields=['Country'], bind=input_dropdown, name='Net migration per 1000 residents for')\n",
    "\n",
    "alt.Chart(mig_per_year).mark_text(\n",
    "    fontSize=20\n",
    ").encode(\n",
    "    text = 'Net migration per 1000 residents'\n",
    ").add_selection(selection).transform_filter(\n",
    "    selection\n",
    ").properties(height=50, width=200)"
   ]
  },
  {
   "cell_type": "code",
   "execution_count": 21,
   "metadata": {},
   "outputs": [],
   "source": [
    "mig_eu_2018 = pd.read_csv('../raw_data/eu_pop_2018.csv')\n",
    "mig_eu_2018 = mig_eu_2018.sort_values('Population change per 1000 residents', ascending=False)"
   ]
  },
  {
   "cell_type": "code",
   "execution_count": 39,
   "metadata": {},
   "outputs": [
    {
     "data": {
      "application/vnd.vegalite.v2+json": {
       "$schema": "https://vega.github.io/schema/vega-lite/v2.6.0.json",
       "config": {
        "axisX": {
         "domain": true,
         "domainColor": "black",
         "domainWidth": 1,
         "grid": false,
         "labelAngle": 0,
         "labelColor": "black",
         "labelFont": "Poppins",
         "labelFontSize": 12,
         "tickColor": "black",
         "tickSize": 5,
         "titleColor": "black",
         "titleFont": "Poppins",
         "titleFontSize": 14,
         "titlePadding": 5
        },
        "axisY": {
         "domain": false,
         "grid": false,
         "gridColor": "white",
         "gridWidth": 1,
         "labelAngle": 0,
         "labelColor": "black",
         "labelFont": "Poppins",
         "labelFontSize": 12,
         "labelPadding": 5,
         "ticks": false,
         "titleColor": "black",
         "titleFont": "Poppins",
         "titleFontSize": 14,
         "titlePadding": 5
        },
        "bar": {
         "binSpacing": 1,
         "continuousBandSize": 30,
         "discreteBandSize": 30,
         "size": 40,
         "stroke": false
        },
        "circle": {
         "size": 50,
         "stroke": "white",
         "strokeWidth": 0.5
        },
        "legend": {
         "labelFont": "Poppins",
         "labelFontSize": 12,
         "offset": 0,
         "orient": "top-right",
         "symbolSize": 100,
         "symbolType": "circle",
         "title": "",
         "titleFont": "Poppins",
         "titleFontSize": 14
        },
        "line": {
         "strokeWidth": 3
        },
        "path": {
         "strokeWidth": 0.5
        },
        "point": {
         "size": 50
        },
        "range": {
         "category": [
          "#47b8e0",
          "#ffc952",
          "#a5d296",
          "#ff7473",
          "#7f9eb2",
          "#f1bbba",
          "#D1B6E1",
          "#D9D4CF"
         ],
         "diverging": [
          "#eff3ff",
          "#c6dbef",
          "#9ecae1",
          "#6baed6",
          "#3182bd",
          "#08519c"
         ]
        },
        "text": {
         "align": "right",
         "font": "Poppins",
         "fontSize": 11,
         "fontWeight": 400,
         "size": 11
        },
        "title": {
         "anchor": "center",
         "font": "Poppins",
         "fontSize": 18,
         "offset": 15
        },
        "trail": {
         "size": 1,
         "strokeWidth": 0
        },
        "view": {
         "stroke": "transparent"
        }
       },
       "data": {
        "name": "data-01b2aa7b10d1d6f06607f6eb78f4ab13"
       },
       "datasets": {
        "data-01b2aa7b10d1d6f06607f6eb78f4ab13": [
         {
          "Country": "Malta",
          "Population 1.1.2017 (in 1000)": 460.3,
          "Population 1.1.2018 (in 1000)": 475.7,
          "Population change per 1000 residents": 32.9,
          "Share in EU Population, 2018": "0.10%"
         },
         {
          "Country": "Iceland",
          "Population 1.1.2017 (in 1000)": 338.3,
          "Population 1.1.2018 (in 1000)": 348.5,
          "Population change per 1000 residents": 29.4,
          "Share in EU Population, 2018": "-"
         },
         {
          "Country": "Luxembourg",
          "Population 1.1.2017 (in 1000)": 590.7,
          "Population 1.1.2018 (in 1000)": 602,
          "Population change per 1000 residents": 19,
          "Share in EU Population, 2018": "0.10%"
         },
         {
          "Country": "Turkey",
          "Population 1.1.2017 (in 1000)": 79814.9,
          "Population 1.1.2018 (in 1000)": 80810.5,
          "Population change per 1000 residents": 12.4,
          "Share in EU Population, 2018": "-"
         },
         {
          "Country": "Sweden",
          "Population 1.1.2017 (in 1000)": 9995.2,
          "Population 1.1.2018 (in 1000)": 10120.2,
          "Population change per 1000 residents": 12.4,
          "Share in EU Population, 2018": "2.00%"
         },
         {
          "Country": "Romania",
          "Population 1.1.2017 (in 1000)": 19644.4,
          "Population 1.1.2018 (in 1000)": 19523.6,
          "Population change per 1000 residents": -6.2,
          "Share in EU Population, 2018": "3.80%"
         },
         {
          "Country": "Bulgaria",
          "Population 1.1.2017 (in 1000)": 7101.9,
          "Population 1.1.2018 (in 1000)": 7050,
          "Population change per 1000 residents": -7.3,
          "Share in EU Population, 2018": "1.40%"
         },
         {
          "Country": "Latvia",
          "Population 1.1.2017 (in 1000)": 1950.1,
          "Population 1.1.2018 (in 1000)": 1934.4,
          "Population change per 1000 residents": -8.1,
          "Share in EU Population, 2018": "0.40%"
         },
         {
          "Country": "Croatia",
          "Population 1.1.2017 (in 1000)": 4154.2,
          "Population 1.1.2018 (in 1000)": 4105.5,
          "Population change per 1000 residents": -11.8,
          "Share in EU Population, 2018": "0.80%"
         },
         {
          "Country": "Lithuania",
          "Population 1.1.2017 (in 1000)": 2847.9,
          "Population 1.1.2018 (in 1000)": 2808.9,
          "Population change per 1000 residents": -13.8,
          "Share in EU Population, 2018": "0.50%"
         }
        ]
       },
       "encoding": {
        "color": {
         "condition": {
          "test": "(datum['Country'] === 'Lithuania')",
          "value": "#FFBC42"
         },
         "value": "#4FB0C6"
        },
        "x": {
         "field": "Population change per 1000 residents",
         "type": "quantitative"
        },
        "y": {
         "field": "Country",
         "sort": {
          "field": "Net migration per 1000 residents",
          "op": "count",
          "order": "descending"
         },
         "title": "",
         "type": "nominal"
        }
       },
       "height": 300,
       "mark": "bar",
       "title": "Countries with the Lowest and Highest Population Change in Europe (2018)",
       "width": 400
      },
      "image/png": "[encoded data removed]",
      "text/plain": [
       "<VegaLite 2 object>\n",
       "\n",
       "If you see this message, it means the renderer has not been properly enabled\n",
       "for the frontend that you are using. For more information, see\n",
       "https://altair-viz.github.io/user_guide/troubleshooting.html\n"
      ]
     },
     "execution_count": 39,
     "metadata": {},
     "output_type": "execute_result"
    }
   ],
   "source": [
    "# 2018\n",
    "graph_migration(mig_eu_2018[:5].append(mig_eu_2018[-5:]), 'Country', 'Population change per 1000 residents', \n",
    "                'Population Change in Europe (2018)')"
   ]
  },
  {
   "cell_type": "markdown",
   "metadata": {},
   "source": [
    "## Population Growth Rate in the World"
   ]
  },
  {
   "cell_type": "code",
   "execution_count": 24,
   "metadata": {},
   "outputs": [],
   "source": [
    "mig_per_year_world = pd.read_csv('../raw_data/cia_top.csv')"
   ]
  },
  {
   "cell_type": "code",
   "execution_count": 25,
   "metadata": {},
   "outputs": [
    {
     "data": {
      "text/html": [
       "<div>\n",
       "<style scoped>\n",
       "    .dataframe tbody tr th:only-of-type {\n",
       "        vertical-align: middle;\n",
       "    }\n",
       "\n",
       "    .dataframe tbody tr th {\n",
       "        vertical-align: top;\n",
       "    }\n",
       "\n",
       "    .dataframe thead th {\n",
       "        text-align: right;\n",
       "    }\n",
       "</style>\n",
       "<table border=\"1\" class=\"dataframe\">\n",
       "  <thead>\n",
       "    <tr style=\"text-align: right;\">\n",
       "      <th></th>\n",
       "      <th>Country</th>\n",
       "      <th>Population Growth Rate (%)</th>\n",
       "    </tr>\n",
       "  </thead>\n",
       "  <tbody>\n",
       "    <tr>\n",
       "      <th>0</th>\n",
       "      <td>South Sudan</td>\n",
       "      <td>3.83</td>\n",
       "    </tr>\n",
       "    <tr>\n",
       "      <th>1</th>\n",
       "      <td>Angola</td>\n",
       "      <td>3.52</td>\n",
       "    </tr>\n",
       "    <tr>\n",
       "      <th>2</th>\n",
       "      <td>Malawi</td>\n",
       "      <td>3.31</td>\n",
       "    </tr>\n",
       "    <tr>\n",
       "      <th>3</th>\n",
       "      <td>Burundi</td>\n",
       "      <td>3.25</td>\n",
       "    </tr>\n",
       "    <tr>\n",
       "      <th>4</th>\n",
       "      <td>Uganda</td>\n",
       "      <td>3.20</td>\n",
       "    </tr>\n",
       "    <tr>\n",
       "      <th>5</th>\n",
       "      <td>Niger</td>\n",
       "      <td>3.19</td>\n",
       "    </tr>\n",
       "    <tr>\n",
       "      <th>6</th>\n",
       "      <td>Mali</td>\n",
       "      <td>3.02</td>\n",
       "    </tr>\n",
       "    <tr>\n",
       "      <th>7</th>\n",
       "      <td>Burkina Faso</td>\n",
       "      <td>3.00</td>\n",
       "    </tr>\n",
       "    <tr>\n",
       "      <th>8</th>\n",
       "      <td>Zambia</td>\n",
       "      <td>2.93</td>\n",
       "    </tr>\n",
       "    <tr>\n",
       "      <th>9</th>\n",
       "      <td>Ethiopia</td>\n",
       "      <td>2.85</td>\n",
       "    </tr>\n",
       "    <tr>\n",
       "      <th>10</th>\n",
       "      <td>Estonia</td>\n",
       "      <td>-0.57</td>\n",
       "    </tr>\n",
       "    <tr>\n",
       "      <th>11</th>\n",
       "      <td>Bulgaria</td>\n",
       "      <td>-0.60</td>\n",
       "    </tr>\n",
       "    <tr>\n",
       "      <th>12</th>\n",
       "      <td>Moldova</td>\n",
       "      <td>-1.05</td>\n",
       "    </tr>\n",
       "    <tr>\n",
       "      <th>13</th>\n",
       "      <td>Latvia</td>\n",
       "      <td>-1.08</td>\n",
       "    </tr>\n",
       "    <tr>\n",
       "      <th>14</th>\n",
       "      <td>Saint Pierre and Miquelon</td>\n",
       "      <td>-1.08</td>\n",
       "    </tr>\n",
       "    <tr>\n",
       "      <th>15</th>\n",
       "      <td>Lithuania</td>\n",
       "      <td>-1.08</td>\n",
       "    </tr>\n",
       "    <tr>\n",
       "      <th>16</th>\n",
       "      <td>Lebanon</td>\n",
       "      <td>-1.10</td>\n",
       "    </tr>\n",
       "    <tr>\n",
       "      <th>17</th>\n",
       "      <td>American Samoa</td>\n",
       "      <td>-1.30</td>\n",
       "    </tr>\n",
       "    <tr>\n",
       "      <th>18</th>\n",
       "      <td>Puerto Rico</td>\n",
       "      <td>-1.74</td>\n",
       "    </tr>\n",
       "    <tr>\n",
       "      <th>19</th>\n",
       "      <td>Cook Islands</td>\n",
       "      <td>-2.79</td>\n",
       "    </tr>\n",
       "  </tbody>\n",
       "</table>\n",
       "</div>"
      ],
      "text/plain": [
       "                      Country  Population Growth Rate (%)\n",
       "0                 South Sudan                        3.83\n",
       "1                      Angola                        3.52\n",
       "2                      Malawi                        3.31\n",
       "3                     Burundi                        3.25\n",
       "4                      Uganda                        3.20\n",
       "5                       Niger                        3.19\n",
       "6                        Mali                        3.02\n",
       "7                Burkina Faso                        3.00\n",
       "8                      Zambia                        2.93\n",
       "9                    Ethiopia                        2.85\n",
       "10                    Estonia                       -0.57\n",
       "11                   Bulgaria                       -0.60\n",
       "12                    Moldova                       -1.05\n",
       "13                     Latvia                       -1.08\n",
       "14  Saint Pierre and Miquelon                       -1.08\n",
       "15                  Lithuania                       -1.08\n",
       "16                    Lebanon                       -1.10\n",
       "17             American Samoa                       -1.30\n",
       "18                Puerto Rico                       -1.74\n",
       "19               Cook Islands                       -2.79"
      ]
     },
     "execution_count": 25,
     "metadata": {},
     "output_type": "execute_result"
    }
   ],
   "source": [
    "mig_per_year_world"
   ]
  },
  {
   "cell_type": "code",
   "execution_count": 26,
   "metadata": {},
   "outputs": [
    {
     "data": {
      "application/vnd.vegalite.v2+json": {
       "$schema": "https://vega.github.io/schema/vega-lite/v2.6.0.json",
       "config": {
        "axisX": {
         "domain": true,
         "domainColor": "black",
         "domainWidth": 1,
         "grid": false,
         "labelAngle": 0,
         "labelColor": "black",
         "labelFont": "Poppins",
         "labelFontSize": 12,
         "tickColor": "black",
         "tickSize": 5,
         "titleColor": "black",
         "titleFont": "Poppins",
         "titleFontSize": 14,
         "titlePadding": 5
        },
        "axisY": {
         "domain": false,
         "grid": false,
         "gridColor": "white",
         "gridWidth": 1,
         "labelAngle": 0,
         "labelColor": "black",
         "labelFont": "Poppins",
         "labelFontSize": 12,
         "labelPadding": 5,
         "ticks": false,
         "titleColor": "black",
         "titleFont": "Poppins",
         "titleFontSize": 14,
         "titlePadding": 5
        },
        "bar": {
         "binSpacing": 1,
         "continuousBandSize": 30,
         "discreteBandSize": 30,
         "size": 40,
         "stroke": false
        },
        "circle": {
         "size": 50,
         "stroke": "white",
         "strokeWidth": 0.5
        },
        "legend": {
         "labelFont": "Poppins",
         "labelFontSize": 12,
         "offset": 0,
         "orient": "top-right",
         "symbolSize": 100,
         "symbolType": "circle",
         "title": "",
         "titleFont": "Poppins",
         "titleFontSize": 14
        },
        "line": {
         "strokeWidth": 3
        },
        "path": {
         "strokeWidth": 0.5
        },
        "point": {
         "size": 50
        },
        "range": {
         "category": [
          "#47b8e0",
          "#ffc952",
          "#a5d296",
          "#ff7473",
          "#7f9eb2",
          "#f1bbba",
          "#D1B6E1",
          "#D9D4CF"
         ],
         "diverging": [
          "#eff3ff",
          "#c6dbef",
          "#9ecae1",
          "#6baed6",
          "#3182bd",
          "#08519c"
         ]
        },
        "text": {
         "align": "right",
         "font": "Poppins",
         "fontSize": 11,
         "fontWeight": 400,
         "size": 11
        },
        "title": {
         "anchor": "center",
         "font": "Poppins",
         "fontSize": 18,
         "offset": 15
        },
        "trail": {
         "size": 1,
         "strokeWidth": 0
        },
        "view": {
         "stroke": "transparent"
        }
       },
       "data": {
        "name": "data-cf1e0ab2791a71f6ab0fc7d023be6cca"
       },
       "datasets": {
        "data-cf1e0ab2791a71f6ab0fc7d023be6cca": [
         {
          "Country": "South Sudan",
          "Population Growth Rate (%)": 3.83
         },
         {
          "Country": "Angola",
          "Population Growth Rate (%)": 3.52
         },
         {
          "Country": "Malawi",
          "Population Growth Rate (%)": 3.31
         },
         {
          "Country": "Burundi",
          "Population Growth Rate (%)": 3.25
         },
         {
          "Country": "Uganda",
          "Population Growth Rate (%)": 3.2
         },
         {
          "Country": "Lithuania",
          "Population Growth Rate (%)": -1.08
         },
         {
          "Country": "Lebanon",
          "Population Growth Rate (%)": -1.1
         },
         {
          "Country": "American Samoa",
          "Population Growth Rate (%)": -1.3
         },
         {
          "Country": "Puerto Rico",
          "Population Growth Rate (%)": -1.74
         },
         {
          "Country": "Cook Islands",
          "Population Growth Rate (%)": -2.79
         }
        ]
       },
       "encoding": {
        "color": {
         "condition": {
          "test": "(datum['Country'] === 'Lithuania')",
          "value": "#FFBC42"
         },
         "value": "#4FB0C6"
        },
        "x": {
         "field": "Population Growth Rate (%)",
         "type": "quantitative"
        },
        "y": {
         "field": "Country",
         "sort": {
          "field": "Net migration per 1000 residents",
          "op": "count",
          "order": "descending"
         },
         "title": "",
         "type": "nominal"
        }
       },
       "height": 300,
       "mark": "bar",
       "title": "Countries with the Lowest and Highest Population Growth Rate in the World (2017)",
       "width": 400
      },
      "image/png": "[encoded data removed]",
      "text/plain": [
       "<VegaLite 2 object>\n",
       "\n",
       "If you see this message, it means the renderer has not been properly enabled\n",
       "for the frontend that you are using. For more information, see\n",
       "https://altair-viz.github.io/user_guide/troubleshooting.html\n"
      ]
     },
     "execution_count": 26,
     "metadata": {},
     "output_type": "execute_result"
    }
   ],
   "source": [
    "# -1.08 % = 1% less than last year, i.e. net migration per 1000 residents = -10.8 \n",
    "# 2017\n",
    "graph_migration(mig_per_year_world[:5].append(mig_per_year_world[-5:]), 'Country', \n",
    "                'Population Growth Rate (%)', 'Population Growth Rate in the World (2017)')"
   ]
  },
  {
   "cell_type": "markdown",
   "metadata": {},
   "source": [
    "## Lithuanian Citizens Abroad"
   ]
  },
  {
   "cell_type": "code",
   "execution_count": 32,
   "metadata": {},
   "outputs": [],
   "source": [
    "countries = pd.read_csv('../raw_data/data_from_emn/lithuanians_abroad.csv')"
   ]
  },
  {
   "cell_type": "code",
   "execution_count": 33,
   "metadata": {},
   "outputs": [
    {
     "data": {
      "text/html": [
       "<div>\n",
       "<style scoped>\n",
       "    .dataframe tbody tr th:only-of-type {\n",
       "        vertical-align: middle;\n",
       "    }\n",
       "\n",
       "    .dataframe tbody tr th {\n",
       "        vertical-align: top;\n",
       "    }\n",
       "\n",
       "    .dataframe thead th {\n",
       "        text-align: right;\n",
       "    }\n",
       "</style>\n",
       "<table border=\"1\" class=\"dataframe\">\n",
       "  <thead>\n",
       "    <tr style=\"text-align: right;\">\n",
       "      <th></th>\n",
       "      <th>Country</th>\n",
       "      <th>Number of Lithuanian Citizens (2018)</th>\n",
       "    </tr>\n",
       "  </thead>\n",
       "  <tbody>\n",
       "    <tr>\n",
       "      <th>0</th>\n",
       "      <td>United Kingdom</td>\n",
       "      <td>212000</td>\n",
       "    </tr>\n",
       "    <tr>\n",
       "      <th>1</th>\n",
       "      <td>Norway</td>\n",
       "      <td>48000</td>\n",
       "    </tr>\n",
       "    <tr>\n",
       "      <th>2</th>\n",
       "      <td>Germany</td>\n",
       "      <td>48000</td>\n",
       "    </tr>\n",
       "    <tr>\n",
       "      <th>3</th>\n",
       "      <td>Ireland</td>\n",
       "      <td>36552</td>\n",
       "    </tr>\n",
       "    <tr>\n",
       "      <th>4</th>\n",
       "      <td>Spain</td>\n",
       "      <td>25591</td>\n",
       "    </tr>\n",
       "    <tr>\n",
       "      <th>5</th>\n",
       "      <td>Denmark</td>\n",
       "      <td>13967</td>\n",
       "    </tr>\n",
       "    <tr>\n",
       "      <th>6</th>\n",
       "      <td>Sweden</td>\n",
       "      <td>13659</td>\n",
       "    </tr>\n",
       "    <tr>\n",
       "      <th>7</th>\n",
       "      <td>Belarus</td>\n",
       "      <td>7057</td>\n",
       "    </tr>\n",
       "    <tr>\n",
       "      <th>8</th>\n",
       "      <td>Netherlands</td>\n",
       "      <td>6476</td>\n",
       "    </tr>\n",
       "    <tr>\n",
       "      <th>9</th>\n",
       "      <td>Italy</td>\n",
       "      <td>5161</td>\n",
       "    </tr>\n",
       "  </tbody>\n",
       "</table>\n",
       "</div>"
      ],
      "text/plain": [
       "          Country  Number of Lithuanian Citizens (2018)\n",
       "0  United Kingdom                                212000\n",
       "1          Norway                                 48000\n",
       "2         Germany                                 48000\n",
       "3         Ireland                                 36552\n",
       "4           Spain                                 25591\n",
       "5         Denmark                                 13967\n",
       "6          Sweden                                 13659\n",
       "7         Belarus                                  7057\n",
       "8     Netherlands                                  6476\n",
       "9           Italy                                  5161"
      ]
     },
     "execution_count": 33,
     "metadata": {},
     "output_type": "execute_result"
    }
   ],
   "source": [
    "countries[:10]"
   ]
  },
  {
   "cell_type": "code",
   "execution_count": 37,
   "metadata": {},
   "outputs": [
    {
     "data": {
      "application/vnd.vegalite.v2+json": {
       "$schema": "https://vega.github.io/schema/vega-lite/v2.6.0.json",
       "config": {
        "axisX": {
         "domain": true,
         "domainColor": "black",
         "domainWidth": 1,
         "grid": false,
         "labelAngle": 0,
         "labelColor": "black",
         "labelFont": "Poppins",
         "labelFontSize": 12,
         "tickColor": "black",
         "tickSize": 5,
         "titleColor": "black",
         "titleFont": "Poppins",
         "titleFontSize": 14,
         "titlePadding": 5
        },
        "axisY": {
         "domain": false,
         "grid": false,
         "gridColor": "white",
         "gridWidth": 1,
         "labelAngle": 0,
         "labelColor": "black",
         "labelFont": "Poppins",
         "labelFontSize": 12,
         "labelPadding": 5,
         "ticks": false,
         "titleColor": "black",
         "titleFont": "Poppins",
         "titleFontSize": 14,
         "titlePadding": 5
        },
        "bar": {
         "binSpacing": 1,
         "continuousBandSize": 30,
         "discreteBandSize": 30,
         "size": 40,
         "stroke": false
        },
        "circle": {
         "size": 50,
         "stroke": "white",
         "strokeWidth": 0.5
        },
        "legend": {
         "labelFont": "Poppins",
         "labelFontSize": 12,
         "offset": 0,
         "orient": "top-right",
         "symbolSize": 100,
         "symbolType": "circle",
         "title": "",
         "titleFont": "Poppins",
         "titleFontSize": 14
        },
        "line": {
         "strokeWidth": 3
        },
        "path": {
         "strokeWidth": 0.5
        },
        "point": {
         "size": 50
        },
        "range": {
         "category": [
          "#47b8e0",
          "#ffc952",
          "#a5d296",
          "#ff7473",
          "#7f9eb2",
          "#f1bbba",
          "#D1B6E1",
          "#D9D4CF"
         ],
         "diverging": [
          "#eff3ff",
          "#c6dbef",
          "#9ecae1",
          "#6baed6",
          "#3182bd",
          "#08519c"
         ]
        },
        "text": {
         "align": "right",
         "font": "Poppins",
         "fontSize": 11,
         "fontWeight": 400,
         "size": 11
        },
        "title": {
         "anchor": "center",
         "font": "Poppins",
         "fontSize": 18,
         "offset": 15
        },
        "trail": {
         "size": 1,
         "strokeWidth": 0
        },
        "view": {
         "stroke": "transparent"
        }
       },
       "datasets": {
        "data-275ffd8f2b90c62eacdc5ca203277544": [
         {
          "Country": "United Kingdom",
          "Number of Lithuanian Citizens (2018)": 212000
         },
         {
          "Country": "Norway",
          "Number of Lithuanian Citizens (2018)": 48000
         },
         {
          "Country": "Germany",
          "Number of Lithuanian Citizens (2018)": 48000
         },
         {
          "Country": "Ireland",
          "Number of Lithuanian Citizens (2018)": 36552
         },
         {
          "Country": "Spain",
          "Number of Lithuanian Citizens (2018)": 25591
         },
         {
          "Country": "Denmark",
          "Number of Lithuanian Citizens (2018)": 13967
         },
         {
          "Country": "Sweden",
          "Number of Lithuanian Citizens (2018)": 13659
         },
         {
          "Country": "Belarus",
          "Number of Lithuanian Citizens (2018)": 7057
         },
         {
          "Country": "Netherlands",
          "Number of Lithuanian Citizens (2018)": 6476
         },
         {
          "Country": "Italy",
          "Number of Lithuanian Citizens (2018)": 5161
         }
        ]
       },
       "height": 300,
       "layer": [
        {
         "data": {
          "name": "data-275ffd8f2b90c62eacdc5ca203277544"
         },
         "encoding": {
          "x": {
           "axis": {
            "domain": false,
            "labels": false,
            "ticks": false
           },
           "field": "Number of Lithuanian Citizens (2018)",
           "title": "",
           "type": "quantitative"
          },
          "y": {
           "field": "Country",
           "sort": {
            "field": "Number of Lithuanian Citizens (2018)",
            "op": "count",
            "order": "ascending"
           },
           "title": "",
           "type": "nominal"
          }
         },
         "mark": {
          "color": "#D499B9",
          "type": "bar"
         }
        },
        {
         "data": {
          "name": "data-275ffd8f2b90c62eacdc5ca203277544"
         },
         "encoding": {
          "text": {
           "field": "Number of Lithuanian Citizens (2018)",
           "type": "quantitative"
          },
          "x": {
           "axis": {
            "domain": false,
            "labels": false,
            "ticks": false
           },
           "field": "Number of Lithuanian Citizens (2018)",
           "title": "",
           "type": "quantitative"
          },
          "y": {
           "field": "Country",
           "sort": {
            "field": "Number of Lithuanian Citizens (2018)",
            "op": "count",
            "order": "ascending"
           },
           "title": "",
           "type": "nominal"
          }
         },
         "mark": {
          "align": "left",
          "baseline": "middle",
          "dx": 3,
          "fontSize": 12,
          "type": "text"
         }
        }
       ],
       "title": "Number of Lithuanian Citizens Abroad (2018)",
       "width": 400
      },
      "image/png": "[encoded data removed]",
      "text/plain": [
       "<VegaLite 2 object>\n",
       "\n",
       "If you see this message, it means the renderer has not been properly enabled\n",
       "for the frontend that you are using. For more information, see\n",
       "https://altair-viz.github.io/user_guide/troubleshooting.html\n"
      ]
     },
     "execution_count": 37,
     "metadata": {},
     "output_type": "execute_result"
    }
   ],
   "source": [
    "bars = alt.Chart(countries[:10]).mark_bar(color='#D499B9').encode(\n",
    "    x = alt.X('Number of Lithuanian Citizens (2018)', axis=alt.Axis(ticks=False, domain=False, labels=False), \n",
    "              title=''),\n",
    "    y = alt.Y('Country', sort=alt.EncodingSortField(field='Number of Lithuanian Citizens (2018)', \n",
    "                                                    op='count', order='ascending'), title='')\n",
    ")\n",
    "\n",
    "text = bars.mark_text(\n",
    "    align='left',\n",
    "    baseline='middle',\n",
    "    dx=3,  # Nudges text to right so it doesn't appear on top of the bar\n",
    "    fontSize=12\n",
    ").encode(\n",
    "    text='Number of Lithuanian Citizens (2018)'\n",
    ")\n",
    "\n",
    "(bars + text).properties(title='Number of Lithuanian Citizens Abroad (2018)')"
   ]
  },
  {
   "cell_type": "code",
   "execution_count": null,
   "metadata": {},
   "outputs": [],
   "source": []
  }
 ],
 "metadata": {
  "kernelspec": {
   "display_name": "Python 3",
   "language": "python",
   "name": "python3"
  },
  "language_info": {
   "codemirror_mode": {
    "name": "ipython",
    "version": 3
   },
   "file_extension": ".py",
   "mimetype": "text/x-python",
   "name": "python",
   "nbconvert_exporter": "python",
   "pygments_lexer": "ipython3",
   "version": "3.6.2"
  }
 },
 "nbformat": 4,
 "nbformat_minor": 2
}
